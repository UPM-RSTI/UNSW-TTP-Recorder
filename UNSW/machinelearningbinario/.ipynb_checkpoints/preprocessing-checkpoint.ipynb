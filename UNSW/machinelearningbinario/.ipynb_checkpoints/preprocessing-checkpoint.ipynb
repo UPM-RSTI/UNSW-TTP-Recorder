{
 "cells": [
  {
   "cell_type": "code",
   "execution_count": 1,
   "id": "27f89fab",
   "metadata": {},
   "outputs": [],
   "source": [
    "import numpy as np\n",
    "import pandas as pd\n",
    "\n",
    "import pickle \n",
    "from prettytable import PrettyTable\n",
    "\n",
    "import warnings\n",
    "warnings.filterwarnings(\"ignore\")\n",
    "\n",
    "from sklearn.preprocessing import StandardScaler\n",
    "from sklearn.preprocessing import LabelEncoder, OneHotEncoder\n",
    "\n",
    "from sklearn.model_selection import train_test_split\n",
    "from sklearn.linear_model import LogisticRegression, SGDClassifier\n",
    "from sklearn.svm import LinearSVC\n",
    "from sklearn.naive_bayes import MultinomialNB\n",
    "from sklearn.tree import DecisionTreeClassifier\n",
    "from sklearn.ensemble import RandomForestClassifier\n",
    "import xgboost as xgb\n",
    "\n",
    "from sklearn.metrics import accuracy_score, confusion_matrix, make_scorer\n",
    "from sklearn.metrics import auc, f1_score, roc_curve\n",
    "from sklearn.model_selection import GridSearchCV, RandomizedSearchCV\n",
    "from sklearn.model_selection import cross_validate, cross_val_predict\n",
    "\n",
    "%matplotlib inline"
   ]
  },
  {
   "cell_type": "code",
   "execution_count": 3,
   "id": "81712b9d",
   "metadata": {},
   "outputs": [],
   "source": [
    "# Cargar los datos \n",
    "train = pd.read_csv('./train_alldata_EDA.csv')\n",
    "test = pd.read_csv('./test_alldata_EDA.csv')\n",
    "with open('./final_ipynb', 'rb') as file:\n",
    "    # Cargar el diccionario desde el archivo\n",
    "    saved_dict = pickle.load(file)"
   ]
  },
  {
   "cell_type": "code",
   "execution_count": 117,
   "id": "bcd792ac",
   "metadata": {},
   "outputs": [],
   "source": [
    "# Utility function\n",
    "def multi_corr(col1, col2=\"label\", df=train):\n",
    "  \n",
    "    #Calcula la correlación entre una columna y el atributo label\n",
    "    corr = df[[col1, col2]].corr().iloc[0,1]\n",
    "    log_corr = df[col1].apply(np.log1p).corr(df[col2])\n",
    "\n",
    "    print(\"Correlation : {}\\nlog_Correlation: {}\".format(corr, log_corr))"
   ]
  },
  {
   "cell_type": "code",
   "execution_count": 118,
   "id": "53ef3796",
   "metadata": {},
   "outputs": [],
   "source": [
    "def corr(col1, col2=\"label\", df=train):\n",
    "    \n",
    "    #Calcula la correlación entre dos columnas\n",
    "    return df[[col1, col2]].corr().iloc[0,1]"
   ]
  },
  {
   "cell_type": "code",
   "execution_count": 119,
   "id": "31ffbb5f",
   "metadata": {},
   "outputs": [],
   "source": [
    "# Selecting all the features with high correlation values with other features\n",
    "# Refer: https://chrisalbon.com/machine_learning/feature_selection/drop_highly_correlated_features/\n",
    "corr_matrix = train.corr().abs()\n",
    "\n",
    "# Select upper triangle of correlation matrix\n",
    "upper = corr_matrix.where(np.triu(np.ones(corr_matrix.shape), k=1).astype(np.bool))\n",
    "\n",
    "# Find index of feature columns with correlation greater than 0.9\n",
    "to_drop = [column for column in upper.columns if any(upper[column] > 0.95)]"
   ]
  },
  {
   "cell_type": "code",
   "execution_count": 120,
   "id": "83820ce6",
   "metadata": {},
   "outputs": [
    {
     "name": "stdout",
     "output_type": "stream",
     "text": [
      "['sloss', 'dloss', 'dpkts', 'dwin', 'ltime', 'ct_srv_dst', 'ct_src_dport_ltm', 'ct_dst_src_ltm']\n"
     ]
    }
   ],
   "source": [
    "# We don't want to use these features for plotting because these are having high corr\n",
    "# And most likely have same kind of plots with already plotted feature\n",
    "print(to_drop)"
   ]
  },
  {
   "cell_type": "code",
   "execution_count": 121,
   "id": "5c4bdac5",
   "metadata": {},
   "outputs": [],
   "source": [
    "saved_dict['corr_col'] = to_drop"
   ]
  },
  {
   "cell_type": "code",
   "execution_count": 122,
   "id": "6be1e0c0",
   "metadata": {},
   "outputs": [],
   "source": [
    "# removing the features from train and test data\n",
    "train.drop(columns=to_drop, inplace=True)"
   ]
  },
  {
   "cell_type": "code",
   "execution_count": 123,
   "id": "0ff1b4ec",
   "metadata": {},
   "outputs": [
    {
     "data": {
      "text/plain": [
       "Index(['srcip', 'sport', 'dstip', 'dsport', 'proto', 'state', 'dur', 'sbytes',\n",
       "       'dbytes', 'sttl', 'dttl', 'service', 'sload', 'dload', 'spkts', 'swin',\n",
       "       'stcpb', 'dtcpb', 'smeansz', 'dmeansz', 'trans_depth', 'res_bdy_len',\n",
       "       'sjit', 'djit', 'stime', 'sintpkt', 'dintpkt', 'tcprtt', 'synack',\n",
       "       'ackdat', 'is_sm_ips_ports', 'ct_state_ttl', 'ct_flw_http_mthd',\n",
       "       'is_ftp_login', 'ct_ftp_cmd', 'ct_srv_src', 'ct_dst_ltm', 'ct_src_ltm',\n",
       "       'ct_dst_sport_ltm', 'attack_cat', 'label'],\n",
       "      dtype='object')"
      ]
     },
     "execution_count": 123,
     "metadata": {},
     "output_type": "execute_result"
    }
   ],
   "source": [
    "train.columns"
   ]
  },
  {
   "cell_type": "code",
   "execution_count": 124,
   "id": "90449e19",
   "metadata": {},
   "outputs": [
    {
     "data": {
      "text/plain": [
       "((1778032, 41), (762015, 49))"
      ]
     },
     "execution_count": 124,
     "metadata": {},
     "output_type": "execute_result"
    }
   ],
   "source": [
    "train.shape, test.shape"
   ]
  },
  {
   "cell_type": "code",
   "execution_count": 125,
   "id": "7422654c",
   "metadata": {},
   "outputs": [],
   "source": [
    "# Dropping columns which are not useful for the classification\n",
    "# attack_cat is for multiclass classification\n",
    "# all the other columns are address related and not present in sample train data\n",
    "train.drop(['srcip', 'sport', 'dstip', 'dsport', 'attack_cat', 'ct_state_ttl', 'ct_flw_http_mthd', 'is_ftp_login', 'ct_ftp_cmd', 'ct_srv_src', 'ct_dst_ltm', 'ct_src_ltm', 'ct_dst_sport_ltm'], axis=1, inplace=True)"
   ]
  },
  {
   "cell_type": "code",
   "execution_count": 126,
   "id": "19ee9e57",
   "metadata": {},
   "outputs": [],
   "source": [
    "# To use during test data transformation\n",
    "saved_dict['to_drop'] = ['srcip', 'sport', 'dstip', 'dsport', 'attack_cat', 'ct_state_ttl', 'ct_flw_http_mthd', 'is_ftp_login', 'ct_ftp_cmd', 'ct_srv_src', 'ct_dst_ltm', 'ct_src_ltm', 'ct_dst_sport_ltm']"
   ]
  },
  {
   "cell_type": "code",
   "execution_count": 127,
   "id": "628a91e5",
   "metadata": {},
   "outputs": [
    {
     "data": {
      "text/plain": [
       "((1778032, 28), (762015, 49))"
      ]
     },
     "execution_count": 127,
     "metadata": {},
     "output_type": "execute_result"
    }
   ],
   "source": [
    "train.shape, test.shape"
   ]
  },
  {
   "cell_type": "code",
   "execution_count": 128,
   "id": "89440b07",
   "metadata": {},
   "outputs": [],
   "source": [
    "# Getting number of unique values of all the columns\n",
    "# If the unique values are high that means it has continuous set of values\n",
    "col_unique_values = train.nunique()"
   ]
  },
  {
   "cell_type": "code",
   "execution_count": 129,
   "id": "1e07db79",
   "metadata": {},
   "outputs": [],
   "source": [
    "# If the unique values are getter than some threshould than we will check its corr\n",
    "col = col_unique_values[col_unique_values>200].index"
   ]
  },
  {
   "cell_type": "code",
   "execution_count": 130,
   "id": "9e57f55a",
   "metadata": {},
   "outputs": [
    {
     "name": "stdout",
     "output_type": "stream",
     "text": [
      "-------------dur--------------\n",
      "Correlation : 0.0019274028701131475\n",
      "log_Correlation: -0.03254413756460623\n",
      "------------sbytes------------\n",
      "Correlation : 0.010344749695229565\n",
      "log_Correlation: -0.35616315558984374\n",
      "------------dbytes------------\n",
      "Correlation : -0.07641408324436148\n",
      "log_Correlation: -0.5193868283741477\n",
      "------------sload-------------\n",
      "Correlation : 0.19211948100086756\n",
      "log_Correlation: 0.3474660145034949\n",
      "------------dload-------------\n",
      "Correlation : -0.21978094390126515\n",
      "log_Correlation: -0.6033545881626365\n",
      "------------spkts-------------\n",
      "Correlation : -0.12200425437154418\n",
      "log_Correlation: -0.3163533826967563\n",
      "------------stcpb-------------\n",
      "Correlation : -0.23365153315010911\n",
      "log_Correlation: -0.3135563222142905\n",
      "------------dtcpb-------------\n",
      "Correlation : -0.23346071773809843\n",
      "log_Correlation: -0.3134006479812102\n",
      "-----------smeansz------------\n",
      "Correlation : -0.06517990378993671\n",
      "log_Correlation: -0.15111450989648337\n",
      "-----------dmeansz------------\n",
      "Correlation : -0.27230605607442226\n",
      "log_Correlation: -0.564640212740172\n",
      "---------res_bdy_len----------\n",
      "Correlation : -0.0268968526601601\n",
      "log_Correlation: -0.06794901821505799\n",
      "-------------sjit-------------\n",
      "Correlation : 0.020974632769798898\n",
      "log_Correlation: -0.18939100046544047\n",
      "-------------djit-------------\n",
      "Correlation : -0.05608646071436526\n",
      "log_Correlation: -0.20487075694129436\n",
      "------------stime-------------\n",
      "Correlation : 0.27571439334451364\n",
      "log_Correlation: 0.27571397507609996\n",
      "-----------sintpkt------------\n",
      "Correlation : -0.018971416506195472\n",
      "log_Correlation: -0.08027556633947541\n",
      "-----------dintpkt------------\n",
      "Correlation : -0.010747058729631331\n",
      "log_Correlation: -0.07938735519639444\n",
      "------------tcprtt------------\n",
      "Correlation : 0.14592508147519564\n",
      "log_Correlation: 0.18606697323316726\n",
      "------------synack------------\n",
      "Correlation : 0.12439627235187588\n",
      "log_Correlation: 0.1552259883602489\n",
      "------------ackdat------------\n",
      "Correlation : 0.14712408841119426\n",
      "log_Correlation: 0.1796204080402246\n"
     ]
    }
   ],
   "source": [
    "# Checking corr value of original col and log1p applied col\n",
    "# Taking those columns whose unique values are getter than some threshould\n",
    "for column in col:\n",
    "    print(\"{:-^30}\".format(column))\n",
    "    multi_corr(column)"
   ]
  },
  {
   "cell_type": "code",
   "execution_count": 131,
   "id": "4c90482a",
   "metadata": {},
   "outputs": [],
   "source": [
    "# Will apply log1p on this columns and remove original columns\n",
    "log1p_col = ['dur', 'sbytes', 'dbytes', 'sload', 'dload', 'spkts', 'stcpb', 'dtcpb', 'smeansz', 'dmeansz', 'sjit', 'djit']"
   ]
  },
  {
   "cell_type": "code",
   "execution_count": 132,
   "id": "a691eaa9",
   "metadata": {},
   "outputs": [],
   "source": [
    "saved_dict['log1p_col'] = log1p_col"
   ]
  },
  {
   "cell_type": "code",
   "execution_count": 133,
   "id": "0d3f3c7a",
   "metadata": {},
   "outputs": [],
   "source": [
    "# mode values of every features, will use to fill Null values of test\n",
    "mode_dict = train.mode().iloc[0].to_dict()"
   ]
  },
  {
   "cell_type": "code",
   "execution_count": 134,
   "id": "08657f5d",
   "metadata": {},
   "outputs": [],
   "source": [
    "def log1p_transform(col, df=train):\n",
    "    '''\n",
    "    Apply log1p on given column.\n",
    "    Remove the original cola and keep log1p applied col\n",
    "    '''\n",
    "    new_col = col+'_log1p'\n",
    "    df[new_col] = df[col].apply(np.log1p)\n",
    "    df.drop(col, axis=1, inplace=True)"
   ]
  },
  {
   "cell_type": "code",
   "execution_count": 135,
   "id": "07295ba2",
   "metadata": {},
   "outputs": [],
   "source": [
    "# Transforming columns with log1p\n",
    "for col in log1p_col:\n",
    "    log1p_transform(col, df=train)"
   ]
  },
  {
   "cell_type": "code",
   "execution_count": 136,
   "id": "a7d360af",
   "metadata": {},
   "outputs": [
    {
     "data": {
      "text/plain": [
       "(1778032, 28)"
      ]
     },
     "execution_count": 136,
     "metadata": {},
     "output_type": "execute_result"
    }
   ],
   "source": [
    "train.shape"
   ]
  },
  {
   "cell_type": "code",
   "execution_count": 137,
   "id": "3da7eee2",
   "metadata": {},
   "outputs": [
    {
     "data": {
      "text/plain": [
       "Index(['proto', 'state', 'sttl', 'dttl', 'service', 'swin', 'trans_depth',\n",
       "       'res_bdy_len', 'stime', 'sintpkt', 'dintpkt', 'tcprtt', 'synack',\n",
       "       'ackdat', 'is_sm_ips_ports', 'label', 'dur_log1p', 'sbytes_log1p',\n",
       "       'dbytes_log1p', 'sload_log1p', 'dload_log1p', 'spkts_log1p',\n",
       "       'stcpb_log1p', 'dtcpb_log1p', 'smeansz_log1p', 'dmeansz_log1p',\n",
       "       'sjit_log1p', 'djit_log1p'],\n",
       "      dtype='object')"
      ]
     },
     "execution_count": 137,
     "metadata": {},
     "output_type": "execute_result"
    }
   ],
   "source": [
    "train.columns"
   ]
  },
  {
   "cell_type": "code",
   "execution_count": 138,
   "id": "c2c20cc1",
   "metadata": {},
   "outputs": [
    {
     "data": {
      "text/plain": [
       "((1778032, 28), (762015, 49))"
      ]
     },
     "execution_count": 138,
     "metadata": {},
     "output_type": "execute_result"
    }
   ],
   "source": [
    "train.shape, test.shape"
   ]
  },
  {
   "cell_type": "code",
   "execution_count": 139,
   "id": "2988597d",
   "metadata": {},
   "outputs": [],
   "source": [
    "# creating x and y set from the dataset\n",
    "x_train, y_train = train.drop(columns=['label']), train['label']\n",
    "x_test, y_test = test.drop(columns=['label']), test['label']"
   ]
  },
  {
   "cell_type": "code",
   "execution_count": 140,
   "id": "a26af757",
   "metadata": {},
   "outputs": [
    {
     "name": "stdout",
     "output_type": "stream",
     "text": [
      "(1778032, 27) (1778032,)\n",
      "\n",
      "(762015, 48) (762015,)\n"
     ]
    }
   ],
   "source": [
    "print(x_train.shape, y_train.shape)\n",
    "print()\n",
    "print(x_test.shape, y_test.shape)"
   ]
  },
  {
   "cell_type": "code",
   "execution_count": 141,
   "id": "cd167c2e",
   "metadata": {},
   "outputs": [],
   "source": [
    "# Saving all the files to disk to use later\n",
    "pickle.dump((x_train, y_train), open('./final-ipynb/final_train.pkl', 'wb'))\n",
    "pickle.dump((x_test, y_test), open('./final-ipynb/final_test.pkl', 'wb'))"
   ]
  },
  {
   "cell_type": "code",
   "execution_count": 142,
   "id": "ea90afbe",
   "metadata": {},
   "outputs": [],
   "source": [
    "# getting categorical and numerical columns in 2 diff lists\n",
    "cat_col = ['proto', 'service', 'state']\n",
    "num_col = list(set(x_train.columns) - set(cat_col))"
   ]
  },
  {
   "cell_type": "code",
   "execution_count": 143,
   "id": "aecff805",
   "metadata": {},
   "outputs": [],
   "source": [
    "# To use later, during test data cleaning\n",
    "saved_dict['cat_col'] = cat_col\n",
    "saved_dict['num_col'] = num_col"
   ]
  },
  {
   "cell_type": "code",
   "execution_count": 144,
   "id": "6dc26c26",
   "metadata": {},
   "outputs": [
    {
     "data": {
      "text/html": [
       "<div>\n",
       "<style scoped>\n",
       "    .dataframe tbody tr th:only-of-type {\n",
       "        vertical-align: middle;\n",
       "    }\n",
       "\n",
       "    .dataframe tbody tr th {\n",
       "        vertical-align: top;\n",
       "    }\n",
       "\n",
       "    .dataframe thead th {\n",
       "        text-align: right;\n",
       "    }\n",
       "</style>\n",
       "<table border=\"1\" class=\"dataframe\">\n",
       "  <thead>\n",
       "    <tr style=\"text-align: right;\">\n",
       "      <th></th>\n",
       "      <th>proto</th>\n",
       "      <th>state</th>\n",
       "      <th>sttl</th>\n",
       "      <th>dttl</th>\n",
       "      <th>service</th>\n",
       "      <th>swin</th>\n",
       "      <th>trans_depth</th>\n",
       "      <th>res_bdy_len</th>\n",
       "      <th>stime</th>\n",
       "      <th>sintpkt</th>\n",
       "      <th>...</th>\n",
       "      <th>dbytes_log1p</th>\n",
       "      <th>sload_log1p</th>\n",
       "      <th>dload_log1p</th>\n",
       "      <th>spkts_log1p</th>\n",
       "      <th>stcpb_log1p</th>\n",
       "      <th>dtcpb_log1p</th>\n",
       "      <th>smeansz_log1p</th>\n",
       "      <th>dmeansz_log1p</th>\n",
       "      <th>sjit_log1p</th>\n",
       "      <th>djit_log1p</th>\n",
       "    </tr>\n",
       "  </thead>\n",
       "  <tbody>\n",
       "    <tr>\n",
       "      <th>0</th>\n",
       "      <td>udp</td>\n",
       "      <td>INT</td>\n",
       "      <td>254</td>\n",
       "      <td>0</td>\n",
       "      <td>None</td>\n",
       "      <td>0</td>\n",
       "      <td>0</td>\n",
       "      <td>0</td>\n",
       "      <td>1421930643</td>\n",
       "      <td>33.479000</td>\n",
       "      <td>...</td>\n",
       "      <td>0.000000</td>\n",
       "      <td>9.275600</td>\n",
       "      <td>0.000000</td>\n",
       "      <td>1.609438</td>\n",
       "      <td>0.000000</td>\n",
       "      <td>0.000000</td>\n",
       "      <td>3.828641</td>\n",
       "      <td>0.000000</td>\n",
       "      <td>3.878042</td>\n",
       "      <td>0.000000</td>\n",
       "    </tr>\n",
       "    <tr>\n",
       "      <th>1</th>\n",
       "      <td>udp</td>\n",
       "      <td>INT</td>\n",
       "      <td>60</td>\n",
       "      <td>0</td>\n",
       "      <td>dns</td>\n",
       "      <td>0</td>\n",
       "      <td>0</td>\n",
       "      <td>0</td>\n",
       "      <td>1424246229</td>\n",
       "      <td>0.008000</td>\n",
       "      <td>...</td>\n",
       "      <td>0.000000</td>\n",
       "      <td>18.698312</td>\n",
       "      <td>0.000000</td>\n",
       "      <td>1.098612</td>\n",
       "      <td>0.000000</td>\n",
       "      <td>0.000000</td>\n",
       "      <td>4.890349</td>\n",
       "      <td>0.000000</td>\n",
       "      <td>0.000000</td>\n",
       "      <td>0.000000</td>\n",
       "    </tr>\n",
       "    <tr>\n",
       "      <th>2</th>\n",
       "      <td>tcp</td>\n",
       "      <td>FIN</td>\n",
       "      <td>31</td>\n",
       "      <td>29</td>\n",
       "      <td>None</td>\n",
       "      <td>255</td>\n",
       "      <td>0</td>\n",
       "      <td>0</td>\n",
       "      <td>1421948071</td>\n",
       "      <td>0.372205</td>\n",
       "      <td>...</td>\n",
       "      <td>10.048583</td>\n",
       "      <td>14.105347</td>\n",
       "      <td>16.314201</td>\n",
       "      <td>3.713572</td>\n",
       "      <td>20.196135</td>\n",
       "      <td>21.733479</td>\n",
       "      <td>4.174387</td>\n",
       "      <td>6.313548</td>\n",
       "      <td>0.000000</td>\n",
       "      <td>3.012070</td>\n",
       "    </tr>\n",
       "    <tr>\n",
       "      <th>3</th>\n",
       "      <td>tcp</td>\n",
       "      <td>FIN</td>\n",
       "      <td>31</td>\n",
       "      <td>29</td>\n",
       "      <td>ftp</td>\n",
       "      <td>255</td>\n",
       "      <td>0</td>\n",
       "      <td>0</td>\n",
       "      <td>1421971944</td>\n",
       "      <td>16.144740</td>\n",
       "      <td>...</td>\n",
       "      <td>8.227108</td>\n",
       "      <td>10.258074</td>\n",
       "      <td>10.501435</td>\n",
       "      <td>3.970292</td>\n",
       "      <td>21.803017</td>\n",
       "      <td>20.494420</td>\n",
       "      <td>4.043051</td>\n",
       "      <td>4.248495</td>\n",
       "      <td>7.264606</td>\n",
       "      <td>3.984562</td>\n",
       "    </tr>\n",
       "    <tr>\n",
       "      <th>4</th>\n",
       "      <td>tcp</td>\n",
       "      <td>FIN</td>\n",
       "      <td>31</td>\n",
       "      <td>29</td>\n",
       "      <td>None</td>\n",
       "      <td>255</td>\n",
       "      <td>0</td>\n",
       "      <td>0</td>\n",
       "      <td>1421963050</td>\n",
       "      <td>1.218800</td>\n",
       "      <td>...</td>\n",
       "      <td>7.405496</td>\n",
       "      <td>13.339317</td>\n",
       "      <td>13.412088</td>\n",
       "      <td>2.833213</td>\n",
       "      <td>20.673269</td>\n",
       "      <td>21.855078</td>\n",
       "      <td>4.574711</td>\n",
       "      <td>4.521789</td>\n",
       "      <td>4.309533</td>\n",
       "      <td>1.138118</td>\n",
       "    </tr>\n",
       "  </tbody>\n",
       "</table>\n",
       "<p>5 rows × 27 columns</p>\n",
       "</div>"
      ],
      "text/plain": [
       "  proto state  sttl  dttl service  swin  trans_depth  res_bdy_len       stime  \\\n",
       "0   udp   INT   254     0    None     0            0            0  1421930643   \n",
       "1   udp   INT    60     0     dns     0            0            0  1424246229   \n",
       "2   tcp   FIN    31    29    None   255            0            0  1421948071   \n",
       "3   tcp   FIN    31    29     ftp   255            0            0  1421971944   \n",
       "4   tcp   FIN    31    29    None   255            0            0  1421963050   \n",
       "\n",
       "     sintpkt  ...  dbytes_log1p  sload_log1p  dload_log1p  spkts_log1p  \\\n",
       "0  33.479000  ...      0.000000     9.275600     0.000000     1.609438   \n",
       "1   0.008000  ...      0.000000    18.698312     0.000000     1.098612   \n",
       "2   0.372205  ...     10.048583    14.105347    16.314201     3.713572   \n",
       "3  16.144740  ...      8.227108    10.258074    10.501435     3.970292   \n",
       "4   1.218800  ...      7.405496    13.339317    13.412088     2.833213   \n",
       "\n",
       "   stcpb_log1p  dtcpb_log1p  smeansz_log1p  dmeansz_log1p  sjit_log1p  \\\n",
       "0     0.000000     0.000000       3.828641       0.000000    3.878042   \n",
       "1     0.000000     0.000000       4.890349       0.000000    0.000000   \n",
       "2    20.196135    21.733479       4.174387       6.313548    0.000000   \n",
       "3    21.803017    20.494420       4.043051       4.248495    7.264606   \n",
       "4    20.673269    21.855078       4.574711       4.521789    4.309533   \n",
       "\n",
       "   djit_log1p  \n",
       "0    0.000000  \n",
       "1    0.000000  \n",
       "2    3.012070  \n",
       "3    3.984562  \n",
       "4    1.138118  \n",
       "\n",
       "[5 rows x 27 columns]"
      ]
     },
     "execution_count": 144,
     "metadata": {},
     "output_type": "execute_result"
    }
   ],
   "source": [
    "x_train.head()"
   ]
  },
  {
   "cell_type": "code",
   "execution_count": 145,
   "id": "c3561e80",
   "metadata": {},
   "outputs": [],
   "source": [
    "# Standardizing the data\n",
    "scaler = StandardScaler()\n",
    "scaler = scaler.fit(x_train[num_col])"
   ]
  },
  {
   "cell_type": "code",
   "execution_count": 146,
   "id": "edf8c672",
   "metadata": {},
   "outputs": [],
   "source": [
    "x_train[num_col] = scaler.transform(x_train[num_col])"
   ]
  },
  {
   "cell_type": "code",
   "execution_count": 147,
   "id": "fd789302",
   "metadata": {},
   "outputs": [
    {
     "data": {
      "text/html": [
       "<div>\n",
       "<style scoped>\n",
       "    .dataframe tbody tr th:only-of-type {\n",
       "        vertical-align: middle;\n",
       "    }\n",
       "\n",
       "    .dataframe tbody tr th {\n",
       "        vertical-align: top;\n",
       "    }\n",
       "\n",
       "    .dataframe thead th {\n",
       "        text-align: right;\n",
       "    }\n",
       "</style>\n",
       "<table border=\"1\" class=\"dataframe\">\n",
       "  <thead>\n",
       "    <tr style=\"text-align: right;\">\n",
       "      <th></th>\n",
       "      <th>proto</th>\n",
       "      <th>state</th>\n",
       "      <th>sttl</th>\n",
       "      <th>dttl</th>\n",
       "      <th>service</th>\n",
       "      <th>swin</th>\n",
       "      <th>trans_depth</th>\n",
       "      <th>res_bdy_len</th>\n",
       "      <th>stime</th>\n",
       "      <th>sintpkt</th>\n",
       "      <th>...</th>\n",
       "      <th>dbytes_log1p</th>\n",
       "      <th>sload_log1p</th>\n",
       "      <th>dload_log1p</th>\n",
       "      <th>spkts_log1p</th>\n",
       "      <th>stcpb_log1p</th>\n",
       "      <th>dtcpb_log1p</th>\n",
       "      <th>smeansz_log1p</th>\n",
       "      <th>dmeansz_log1p</th>\n",
       "      <th>sjit_log1p</th>\n",
       "      <th>djit_log1p</th>\n",
       "    </tr>\n",
       "  </thead>\n",
       "  <tbody>\n",
       "    <tr>\n",
       "      <th>0</th>\n",
       "      <td>udp</td>\n",
       "      <td>INT</td>\n",
       "      <td>2.561444</td>\n",
       "      <td>-0.717760</td>\n",
       "      <td>None</td>\n",
       "      <td>-1.196045</td>\n",
       "      <td>-0.225343</td>\n",
       "      <td>-0.089113</td>\n",
       "      <td>-1.172764</td>\n",
       "      <td>-0.057567</td>\n",
       "      <td>...</td>\n",
       "      <td>-1.703404</td>\n",
       "      <td>-1.383776</td>\n",
       "      <td>-1.879995</td>\n",
       "      <td>-0.704801</td>\n",
       "      <td>-1.190007</td>\n",
       "      <td>-1.189697</td>\n",
       "      <td>-1.137341</td>\n",
       "      <td>-1.850553</td>\n",
       "      <td>0.204270</td>\n",
       "      <td>-0.899657</td>\n",
       "    </tr>\n",
       "    <tr>\n",
       "      <th>1</th>\n",
       "      <td>udp</td>\n",
       "      <td>INT</td>\n",
       "      <td>-0.037542</td>\n",
       "      <td>-0.717760</td>\n",
       "      <td>dns</td>\n",
       "      <td>-1.196045</td>\n",
       "      <td>-0.225343</td>\n",
       "      <td>-0.089113</td>\n",
       "      <td>0.868469</td>\n",
       "      <td>-0.069616</td>\n",
       "      <td>...</td>\n",
       "      <td>-1.703404</td>\n",
       "      <td>1.614925</td>\n",
       "      <td>-1.879995</td>\n",
       "      <td>-1.080734</td>\n",
       "      <td>-1.190007</td>\n",
       "      <td>-1.189697</td>\n",
       "      <td>0.565988</td>\n",
       "      <td>-1.850553</td>\n",
       "      <td>-0.995343</td>\n",
       "      <td>-0.899657</td>\n",
       "    </tr>\n",
       "    <tr>\n",
       "      <th>2</th>\n",
       "      <td>tcp</td>\n",
       "      <td>FIN</td>\n",
       "      <td>-0.426051</td>\n",
       "      <td>-0.041365</td>\n",
       "      <td>None</td>\n",
       "      <td>0.836096</td>\n",
       "      <td>-0.225343</td>\n",
       "      <td>-0.089113</td>\n",
       "      <td>-1.157401</td>\n",
       "      <td>-0.069485</td>\n",
       "      <td>...</td>\n",
       "      <td>0.911063</td>\n",
       "      <td>0.153252</td>\n",
       "      <td>0.988351</td>\n",
       "      <td>0.843701</td>\n",
       "      <td>0.741629</td>\n",
       "      <td>0.888925</td>\n",
       "      <td>-0.582651</td>\n",
       "      <td>0.881301</td>\n",
       "      <td>-0.995343</td>\n",
       "      <td>0.170283</td>\n",
       "    </tr>\n",
       "    <tr>\n",
       "      <th>3</th>\n",
       "      <td>tcp</td>\n",
       "      <td>FIN</td>\n",
       "      <td>-0.426051</td>\n",
       "      <td>-0.041365</td>\n",
       "      <td>ftp</td>\n",
       "      <td>0.836096</td>\n",
       "      <td>-0.225343</td>\n",
       "      <td>-0.089113</td>\n",
       "      <td>-1.136357</td>\n",
       "      <td>-0.063807</td>\n",
       "      <td>...</td>\n",
       "      <td>0.437147</td>\n",
       "      <td>-1.071111</td>\n",
       "      <td>-0.033644</td>\n",
       "      <td>1.032630</td>\n",
       "      <td>0.895318</td>\n",
       "      <td>0.770420</td>\n",
       "      <td>-0.793357</td>\n",
       "      <td>-0.012242</td>\n",
       "      <td>1.251851</td>\n",
       "      <td>0.515730</td>\n",
       "    </tr>\n",
       "    <tr>\n",
       "      <th>4</th>\n",
       "      <td>tcp</td>\n",
       "      <td>FIN</td>\n",
       "      <td>-0.426051</td>\n",
       "      <td>-0.041365</td>\n",
       "      <td>None</td>\n",
       "      <td>0.836096</td>\n",
       "      <td>-0.225343</td>\n",
       "      <td>-0.089113</td>\n",
       "      <td>-1.144197</td>\n",
       "      <td>-0.069180</td>\n",
       "      <td>...</td>\n",
       "      <td>0.223377</td>\n",
       "      <td>-0.090531</td>\n",
       "      <td>0.478104</td>\n",
       "      <td>0.195816</td>\n",
       "      <td>0.787264</td>\n",
       "      <td>0.900555</td>\n",
       "      <td>0.059601</td>\n",
       "      <td>0.106012</td>\n",
       "      <td>0.337745</td>\n",
       "      <td>-0.495378</td>\n",
       "    </tr>\n",
       "  </tbody>\n",
       "</table>\n",
       "<p>5 rows × 27 columns</p>\n",
       "</div>"
      ],
      "text/plain": [
       "  proto state      sttl      dttl service      swin  trans_depth  res_bdy_len  \\\n",
       "0   udp   INT  2.561444 -0.717760    None -1.196045    -0.225343    -0.089113   \n",
       "1   udp   INT -0.037542 -0.717760     dns -1.196045    -0.225343    -0.089113   \n",
       "2   tcp   FIN -0.426051 -0.041365    None  0.836096    -0.225343    -0.089113   \n",
       "3   tcp   FIN -0.426051 -0.041365     ftp  0.836096    -0.225343    -0.089113   \n",
       "4   tcp   FIN -0.426051 -0.041365    None  0.836096    -0.225343    -0.089113   \n",
       "\n",
       "      stime   sintpkt  ...  dbytes_log1p  sload_log1p  dload_log1p  \\\n",
       "0 -1.172764 -0.057567  ...     -1.703404    -1.383776    -1.879995   \n",
       "1  0.868469 -0.069616  ...     -1.703404     1.614925    -1.879995   \n",
       "2 -1.157401 -0.069485  ...      0.911063     0.153252     0.988351   \n",
       "3 -1.136357 -0.063807  ...      0.437147    -1.071111    -0.033644   \n",
       "4 -1.144197 -0.069180  ...      0.223377    -0.090531     0.478104   \n",
       "\n",
       "   spkts_log1p  stcpb_log1p  dtcpb_log1p  smeansz_log1p  dmeansz_log1p  \\\n",
       "0    -0.704801    -1.190007    -1.189697      -1.137341      -1.850553   \n",
       "1    -1.080734    -1.190007    -1.189697       0.565988      -1.850553   \n",
       "2     0.843701     0.741629     0.888925      -0.582651       0.881301   \n",
       "3     1.032630     0.895318     0.770420      -0.793357      -0.012242   \n",
       "4     0.195816     0.787264     0.900555       0.059601       0.106012   \n",
       "\n",
       "   sjit_log1p  djit_log1p  \n",
       "0    0.204270   -0.899657  \n",
       "1   -0.995343   -0.899657  \n",
       "2   -0.995343    0.170283  \n",
       "3    1.251851    0.515730  \n",
       "4    0.337745   -0.495378  \n",
       "\n",
       "[5 rows x 27 columns]"
      ]
     },
     "execution_count": 147,
     "metadata": {},
     "output_type": "execute_result"
    }
   ],
   "source": [
    "x_train.head()"
   ]
  },
  {
   "cell_type": "code",
   "execution_count": 148,
   "id": "2a1dd7f2",
   "metadata": {},
   "outputs": [],
   "source": [
    "# Onehot Encoding\n",
    "service_ = OneHotEncoder()\n",
    "proto_ = OneHotEncoder()\n",
    "state_ = OneHotEncoder()\n",
    "ohe_service = service_.fit(x_train.service.values.reshape(-1,1))\n",
    "ohe_proto = proto_.fit(x_train.proto.values.reshape(-1,1))\n",
    "ohe_state = state_.fit(x_train.state.values.reshape(-1,1))"
   ]
  },
  {
   "cell_type": "code",
   "execution_count": 149,
   "id": "bf343649",
   "metadata": {},
   "outputs": [],
   "source": [
    "# We are onehot encoding the given column\n",
    "# Remove the original categorical column\n",
    "for col, ohe in zip(['proto', 'service', 'state'], [ohe_proto, ohe_service, ohe_state]):\n",
    "    x = ohe.transform(x_train[col].values.reshape(-1,1))\n",
    "    tmp_df = pd.DataFrame(x.todense(), columns=[col+'_'+i for i in ohe.categories_[0]])\n",
    "    x_train = pd.concat([x_train.drop(col, axis=1), tmp_df], axis=1)"
   ]
  },
  {
   "cell_type": "code",
   "execution_count": 150,
   "id": "d5c0f913",
   "metadata": {},
   "outputs": [
    {
     "data": {
      "text/html": [
       "<div>\n",
       "<style scoped>\n",
       "    .dataframe tbody tr th:only-of-type {\n",
       "        vertical-align: middle;\n",
       "    }\n",
       "\n",
       "    .dataframe tbody tr th {\n",
       "        vertical-align: top;\n",
       "    }\n",
       "\n",
       "    .dataframe thead th {\n",
       "        text-align: right;\n",
       "    }\n",
       "</style>\n",
       "<table border=\"1\" class=\"dataframe\">\n",
       "  <thead>\n",
       "    <tr style=\"text-align: right;\">\n",
       "      <th></th>\n",
       "      <th>sttl</th>\n",
       "      <th>dttl</th>\n",
       "      <th>swin</th>\n",
       "      <th>trans_depth</th>\n",
       "      <th>res_bdy_len</th>\n",
       "      <th>stime</th>\n",
       "      <th>sintpkt</th>\n",
       "      <th>dintpkt</th>\n",
       "      <th>tcprtt</th>\n",
       "      <th>synack</th>\n",
       "      <th>...</th>\n",
       "      <th>state_INT</th>\n",
       "      <th>state_MAS</th>\n",
       "      <th>state_PAR</th>\n",
       "      <th>state_REQ</th>\n",
       "      <th>state_RST</th>\n",
       "      <th>state_TST</th>\n",
       "      <th>state_TXD</th>\n",
       "      <th>state_URH</th>\n",
       "      <th>state_URN</th>\n",
       "      <th>state_no</th>\n",
       "    </tr>\n",
       "  </thead>\n",
       "  <tbody>\n",
       "    <tr>\n",
       "      <th>0</th>\n",
       "      <td>2.561444</td>\n",
       "      <td>-0.717760</td>\n",
       "      <td>-1.196045</td>\n",
       "      <td>-0.225343</td>\n",
       "      <td>-0.089113</td>\n",
       "      <td>-1.172764</td>\n",
       "      <td>-0.057567</td>\n",
       "      <td>-0.055099</td>\n",
       "      <td>-0.136439</td>\n",
       "      <td>-0.128893</td>\n",
       "      <td>...</td>\n",
       "      <td>1.0</td>\n",
       "      <td>0.0</td>\n",
       "      <td>0.0</td>\n",
       "      <td>0.0</td>\n",
       "      <td>0.0</td>\n",
       "      <td>0.0</td>\n",
       "      <td>0.0</td>\n",
       "      <td>0.0</td>\n",
       "      <td>0.0</td>\n",
       "      <td>0.0</td>\n",
       "    </tr>\n",
       "    <tr>\n",
       "      <th>1</th>\n",
       "      <td>-0.037542</td>\n",
       "      <td>-0.717760</td>\n",
       "      <td>-1.196045</td>\n",
       "      <td>-0.225343</td>\n",
       "      <td>-0.089113</td>\n",
       "      <td>0.868469</td>\n",
       "      <td>-0.069616</td>\n",
       "      <td>-0.055099</td>\n",
       "      <td>-0.136439</td>\n",
       "      <td>-0.128893</td>\n",
       "      <td>...</td>\n",
       "      <td>1.0</td>\n",
       "      <td>0.0</td>\n",
       "      <td>0.0</td>\n",
       "      <td>0.0</td>\n",
       "      <td>0.0</td>\n",
       "      <td>0.0</td>\n",
       "      <td>0.0</td>\n",
       "      <td>0.0</td>\n",
       "      <td>0.0</td>\n",
       "      <td>0.0</td>\n",
       "    </tr>\n",
       "    <tr>\n",
       "      <th>2</th>\n",
       "      <td>-0.426051</td>\n",
       "      <td>-0.041365</td>\n",
       "      <td>0.836096</td>\n",
       "      <td>-0.225343</td>\n",
       "      <td>-0.089113</td>\n",
       "      <td>-1.157401</td>\n",
       "      <td>-0.069485</td>\n",
       "      <td>-0.054857</td>\n",
       "      <td>-0.121383</td>\n",
       "      <td>-0.107394</td>\n",
       "      <td>...</td>\n",
       "      <td>0.0</td>\n",
       "      <td>0.0</td>\n",
       "      <td>0.0</td>\n",
       "      <td>0.0</td>\n",
       "      <td>0.0</td>\n",
       "      <td>0.0</td>\n",
       "      <td>0.0</td>\n",
       "      <td>0.0</td>\n",
       "      <td>0.0</td>\n",
       "      <td>0.0</td>\n",
       "    </tr>\n",
       "    <tr>\n",
       "      <th>3</th>\n",
       "      <td>-0.426051</td>\n",
       "      <td>-0.041365</td>\n",
       "      <td>0.836096</td>\n",
       "      <td>-0.225343</td>\n",
       "      <td>-0.089113</td>\n",
       "      <td>-1.136357</td>\n",
       "      <td>-0.063807</td>\n",
       "      <td>-0.044512</td>\n",
       "      <td>-0.120830</td>\n",
       "      <td>-0.107159</td>\n",
       "      <td>...</td>\n",
       "      <td>0.0</td>\n",
       "      <td>0.0</td>\n",
       "      <td>0.0</td>\n",
       "      <td>0.0</td>\n",
       "      <td>0.0</td>\n",
       "      <td>0.0</td>\n",
       "      <td>0.0</td>\n",
       "      <td>0.0</td>\n",
       "      <td>0.0</td>\n",
       "      <td>0.0</td>\n",
       "    </tr>\n",
       "    <tr>\n",
       "      <th>4</th>\n",
       "      <td>-0.426051</td>\n",
       "      <td>-0.041365</td>\n",
       "      <td>0.836096</td>\n",
       "      <td>-0.225343</td>\n",
       "      <td>-0.089113</td>\n",
       "      <td>-1.144197</td>\n",
       "      <td>-0.069180</td>\n",
       "      <td>-0.054358</td>\n",
       "      <td>-0.123351</td>\n",
       "      <td>-0.110421</td>\n",
       "      <td>...</td>\n",
       "      <td>0.0</td>\n",
       "      <td>0.0</td>\n",
       "      <td>0.0</td>\n",
       "      <td>0.0</td>\n",
       "      <td>0.0</td>\n",
       "      <td>0.0</td>\n",
       "      <td>0.0</td>\n",
       "      <td>0.0</td>\n",
       "      <td>0.0</td>\n",
       "      <td>0.0</td>\n",
       "    </tr>\n",
       "  </tbody>\n",
       "</table>\n",
       "<p>5 rows × 188 columns</p>\n",
       "</div>"
      ],
      "text/plain": [
       "       sttl      dttl      swin  trans_depth  res_bdy_len     stime   sintpkt  \\\n",
       "0  2.561444 -0.717760 -1.196045    -0.225343    -0.089113 -1.172764 -0.057567   \n",
       "1 -0.037542 -0.717760 -1.196045    -0.225343    -0.089113  0.868469 -0.069616   \n",
       "2 -0.426051 -0.041365  0.836096    -0.225343    -0.089113 -1.157401 -0.069485   \n",
       "3 -0.426051 -0.041365  0.836096    -0.225343    -0.089113 -1.136357 -0.063807   \n",
       "4 -0.426051 -0.041365  0.836096    -0.225343    -0.089113 -1.144197 -0.069180   \n",
       "\n",
       "    dintpkt    tcprtt    synack  ...  state_INT  state_MAS  state_PAR  \\\n",
       "0 -0.055099 -0.136439 -0.128893  ...        1.0        0.0        0.0   \n",
       "1 -0.055099 -0.136439 -0.128893  ...        1.0        0.0        0.0   \n",
       "2 -0.054857 -0.121383 -0.107394  ...        0.0        0.0        0.0   \n",
       "3 -0.044512 -0.120830 -0.107159  ...        0.0        0.0        0.0   \n",
       "4 -0.054358 -0.123351 -0.110421  ...        0.0        0.0        0.0   \n",
       "\n",
       "   state_REQ  state_RST  state_TST  state_TXD  state_URH  state_URN  state_no  \n",
       "0        0.0        0.0        0.0        0.0        0.0        0.0       0.0  \n",
       "1        0.0        0.0        0.0        0.0        0.0        0.0       0.0  \n",
       "2        0.0        0.0        0.0        0.0        0.0        0.0       0.0  \n",
       "3        0.0        0.0        0.0        0.0        0.0        0.0       0.0  \n",
       "4        0.0        0.0        0.0        0.0        0.0        0.0       0.0  \n",
       "\n",
       "[5 rows x 188 columns]"
      ]
     },
     "execution_count": 150,
     "metadata": {},
     "output_type": "execute_result"
    }
   ],
   "source": [
    "x_train.head()"
   ]
  },
  {
   "cell_type": "code",
   "execution_count": 151,
   "id": "c239b98c",
   "metadata": {},
   "outputs": [],
   "source": [
    "file_path = './final-ipynb/'"
   ]
  },
  {
   "cell_type": "code",
   "execution_count": 152,
   "id": "b4d18ab4",
   "metadata": {},
   "outputs": [],
   "source": [
    "pickle.dump(scaler, open(file_path+'scaler.pkl', 'wb'))  # Standard scaler\n",
    "pickle.dump(saved_dict, open(file_path+'saved_dict.pkl', 'wb'))  # Dictionary with important parameters\n",
    "pickle.dump(mode_dict, open(file_path+'mode_dict.pkl', 'wb'))  #  Dictionary with most frequent values of columns"
   ]
  },
  {
   "cell_type": "code",
   "execution_count": 153,
   "id": "bd99eadd",
   "metadata": {},
   "outputs": [],
   "source": [
    "# Onehot encoder for categorical columns\n",
    "pickle.dump(ohe_proto, open(file_path+'ohe_proto.pkl', 'wb'))\n",
    "pickle.dump(ohe_service, open(file_path+'ohe_service.pkl', 'wb'))\n",
    "pickle.dump(ohe_state, open(file_path+'ohe_state.pkl', 'wb'))"
   ]
  },
  {
   "cell_type": "code",
   "execution_count": 154,
   "id": "d8d4c71a",
   "metadata": {},
   "outputs": [],
   "source": [
    "# Cleaned and processed train data\n",
    "pickle.dump((x_train, y_train), open(file_path+'final_train.pkl', 'wb'))"
   ]
  },
  {
   "cell_type": "code",
   "execution_count": 155,
   "id": "4194fa10",
   "metadata": {},
   "outputs": [],
   "source": [
    "def clean_data(data):\n",
    "    '''\n",
    "    Cleans given raw data. Performs various cleaning, removes Null and wrong values.\n",
    "    Check for columns datatype and fix them.\n",
    "    '''\n",
    "    numerical_col = data.select_dtypes(include=np.number).columns  # All the numerical columns list\n",
    "    categorical_col = data.select_dtypes(exclude=np.number).columns  # All the categorical columns list\n",
    "    \n",
    "    # Cleaning the data\n",
    "    for col in data.columns:\n",
    "        val = mode_dict[col]  # Mode value of the column in train data\n",
    "        data[col] = data[col].fillna(value=val)\n",
    "        data[col] = data[col].replace(' ', value=val)\n",
    "        data[col] = data[col].apply(lambda x:\"None\" if x==\"-\" else x)\n",
    "\n",
    "        # Fixing binary columns\n",
    "        if col in saved_dict['binary_col']:\n",
    "            data[col] = np.where(data[col]>1, val, data[col])\n",
    "\n",
    "    # Fixing datatype of columns\n",
    "    bad_dtypes = list(set(categorical_col) - set(saved_dict['cat_col']))\n",
    "    for bad_col in bad_dtypes:\n",
    "        data[col] = data[col].astype(float)\n",
    "    \n",
    "    return data"
   ]
  },
  {
   "cell_type": "code",
   "execution_count": 156,
   "id": "ba4e3563",
   "metadata": {},
   "outputs": [],
   "source": [
    "def apply_log1p(data):\n",
    "    '''\n",
    "    Performs FE on the data. Apply log1p on the specified columns create new column and remove those original columns.\n",
    "    '''\n",
    "    for col in saved_dict['log1p_col']:\n",
    "        new_col = col + '_log1p'  # New col name\n",
    "        data[new_col] = data[col].apply(np.log1p)  # Creating new column on transformed data\n",
    "        data.drop(col, axis=1, inplace=True)  # Removing old columns\n",
    "    return data"
   ]
  },
  {
   "cell_type": "code",
   "execution_count": 157,
   "id": "4fc76740",
   "metadata": {},
   "outputs": [],
   "source": [
    "def standardize(data):\n",
    "    '''\n",
    "    Stanardize the given data. Performs mean centering and varience scaling.\n",
    "    Using stanardscaler object trained on train data.\n",
    "    '''\n",
    "    data[saved_dict['num_col']] = scaler.transform(data[saved_dict['num_col']])\n",
    "    return data"
   ]
  },
  {
   "cell_type": "code",
   "execution_count": 158,
   "id": "c77a4915",
   "metadata": {},
   "outputs": [],
   "source": [
    "def ohencoding(data):\n",
    "    '''\n",
    "    Onehot encoding the categoricla columns.\n",
    "    Add the ohe columns with the data and removes categorical columns.\n",
    "    Using Onehotencoder objects trained on train data.\n",
    "    '''\n",
    "\n",
    "    # Onehot encoding cat col using onehotencoder objects\n",
    "    X = ohe_service.transform(data['service'].values.reshape(-1, 1))\n",
    "    Xm = ohe_proto.transform(data['proto'].values.reshape(-1, 1))\n",
    "    Xmm = ohe_state.transform(data['state'].values.reshape(-1, 1))\n",
    "    \n",
    "    # Adding encoding data to original data\n",
    "    data = pd.concat([data,\n",
    "                      pd.DataFrame(Xm.toarray(), columns=['proto_'+i for i in ohe_proto.categories_[0]]),\n",
    "                      pd.DataFrame(X.toarray(), columns=['service_'+i for i in ohe_service.categories_[0]]),\n",
    "                      pd.DataFrame(Xmm.toarray(), columns=['state_'+i for i in ohe_state.categories_[0]])],\n",
    "                      axis=1)\n",
    "    \n",
    "    # Removing cat columns\n",
    "    data.drop(['proto', 'service', 'state'], axis=1, inplace=True)\n",
    "\n",
    "    return data"
   ]
  },
  {
   "cell_type": "code",
   "execution_count": 159,
   "id": "62ece47b",
   "metadata": {},
   "outputs": [],
   "source": [
    "# Parametrs\n",
    "saved_dict = pickle.load(open(file_path+'saved_dict.pkl', 'rb'))\n",
    "# Mode value of all the columns\n",
    "mode_dict = pickle.load(open(file_path+'mode_dict.pkl', 'rb'))\n",
    "# Stanardscaler object\n",
    "scaler = pickle.load(open(file_path+'scaler.pkl', 'rb'))"
   ]
  },
  {
   "cell_type": "code",
   "execution_count": 160,
   "id": "60d8752a",
   "metadata": {},
   "outputs": [],
   "source": [
    "# One hot encoder objects\n",
    "ohe_proto = pickle.load(open(file_path+'ohe_proto.pkl', 'rb'))\n",
    "ohe_service = pickle.load(open(file_path+'ohe_service.pkl', 'rb'))\n",
    "ohe_state = pickle.load(open(file_path+'ohe_state.pkl', 'rb'))"
   ]
  },
  {
   "cell_type": "code",
   "execution_count": 161,
   "id": "308c0f86",
   "metadata": {},
   "outputs": [
    {
     "data": {
      "text/plain": [
       "(762015, 48)"
      ]
     },
     "execution_count": 161,
     "metadata": {},
     "output_type": "execute_result"
    }
   ],
   "source": [
    "x_test.shape"
   ]
  },
  {
   "cell_type": "code",
   "execution_count": 162,
   "id": "36469a3a",
   "metadata": {},
   "outputs": [],
   "source": [
    "# Resetting index of test data\n",
    "x_test.reset_index(drop=True, inplace=True)"
   ]
  },
  {
   "cell_type": "code",
   "execution_count": 163,
   "id": "f9705c6f",
   "metadata": {},
   "outputs": [
    {
     "data": {
      "text/plain": [
       "(762015, 48)"
      ]
     },
     "execution_count": 163,
     "metadata": {},
     "output_type": "execute_result"
    }
   ],
   "source": [
    "x_test.shape"
   ]
  },
  {
   "cell_type": "code",
   "execution_count": 164,
   "id": "cf4b2a41",
   "metadata": {},
   "outputs": [
    {
     "data": {
      "text/plain": [
       "Index(['srcip', 'sport', 'dstip', 'dsport', 'proto', 'state', 'dur', 'sbytes',\n",
       "       'dbytes', 'sttl', 'dttl', 'sloss', 'dloss', 'service', 'sload', 'dload',\n",
       "       'spkts', 'dpkts', 'swin', 'dwin', 'stcpb', 'dtcpb', 'smeansz',\n",
       "       'dmeansz', 'trans_depth', 'res_bdy_len', 'sjit', 'djit', 'stime',\n",
       "       'ltime', 'sintpkt', 'dintpkt', 'tcprtt', 'synack', 'ackdat',\n",
       "       'is_sm_ips_ports', 'ct_state_ttl', 'ct_flw_http_mthd', 'is_ftp_login',\n",
       "       'ct_ftp_cmd', 'ct_srv_src', 'ct_srv_dst', 'ct_dst_ltm', 'ct_src_ltm',\n",
       "       'ct_src_dport_ltm', 'ct_dst_sport_ltm', 'ct_dst_src_ltm', 'attack_cat'],\n",
       "      dtype='object')"
      ]
     },
     "execution_count": 164,
     "metadata": {},
     "output_type": "execute_result"
    }
   ],
   "source": [
    "x_test.columns"
   ]
  },
  {
   "cell_type": "code",
   "execution_count": 165,
   "id": "799af0d1",
   "metadata": {},
   "outputs": [],
   "source": [
    "# Adding column names\n",
    "x_test.columns = saved_dict['columns']\n",
    "# Creating new Feature\n",
    "# Droping all the unwanted columns\n",
    "dropable_col = saved_dict['to_drop'] + saved_dict['corr_col']\n",
    "x_test.drop(columns=dropable_col, inplace=True)"
   ]
  },
  {
   "cell_type": "code",
   "execution_count": 166,
   "id": "d0002486",
   "metadata": {},
   "outputs": [
    {
     "data": {
      "text/plain": [
       "(762015, 27)"
      ]
     },
     "execution_count": 166,
     "metadata": {},
     "output_type": "execute_result"
    }
   ],
   "source": [
    "x_test.shape"
   ]
  },
  {
   "cell_type": "code",
   "execution_count": 167,
   "id": "7e42fef4",
   "metadata": {},
   "outputs": [],
   "source": [
    "# Limpiar los datos\n",
    "x_test = clean_data(x_test)"
   ]
  },
  {
   "cell_type": "code",
   "execution_count": 168,
   "id": "0678cd09",
   "metadata": {},
   "outputs": [
    {
     "data": {
      "text/plain": [
       "(762015, 27)"
      ]
     },
     "execution_count": 168,
     "metadata": {},
     "output_type": "execute_result"
    }
   ],
   "source": [
    "x_test.shape"
   ]
  },
  {
   "cell_type": "code",
   "execution_count": 169,
   "id": "62d4bf1d",
   "metadata": {},
   "outputs": [
    {
     "data": {
      "text/plain": [
       "(762015, 27)"
      ]
     },
     "execution_count": 169,
     "metadata": {},
     "output_type": "execute_result"
    }
   ],
   "source": [
    "# FE: applying log1p using apply_log1p()\n",
    "x_test = apply_log1p(x_test)\n",
    "x_test.shape"
   ]
  },
  {
   "cell_type": "code",
   "execution_count": 170,
   "id": "6b2bbdc7",
   "metadata": {},
   "outputs": [
    {
     "data": {
      "text/plain": [
       "Index(['proto', 'state', 'sttl', 'dttl', 'service', 'swin', 'trans_depth',\n",
       "       'res_bdy_len', 'stime', 'sintpkt', 'dintpkt', 'tcprtt', 'synack',\n",
       "       'ackdat', 'is_sm_ips_ports', 'dur_log1p', 'sbytes_log1p',\n",
       "       'dbytes_log1p', 'sload_log1p', 'dload_log1p', 'spkts_log1p',\n",
       "       'stcpb_log1p', 'dtcpb_log1p', 'smeansz_log1p', 'dmeansz_log1p',\n",
       "       'sjit_log1p', 'djit_log1p'],\n",
       "      dtype='object')"
      ]
     },
     "execution_count": 170,
     "metadata": {},
     "output_type": "execute_result"
    }
   ],
   "source": [
    "x_test.columns"
   ]
  },
  {
   "cell_type": "code",
   "execution_count": 171,
   "id": "17f108fb",
   "metadata": {},
   "outputs": [],
   "source": [
    "# Estandarizar los valores de test\n",
    "x_test = standardize(x_test)"
   ]
  },
  {
   "cell_type": "code",
   "execution_count": 172,
   "id": "bd7c0cd5",
   "metadata": {},
   "outputs": [
    {
     "data": {
      "text/html": [
       "<div>\n",
       "<style scoped>\n",
       "    .dataframe tbody tr th:only-of-type {\n",
       "        vertical-align: middle;\n",
       "    }\n",
       "\n",
       "    .dataframe tbody tr th {\n",
       "        vertical-align: top;\n",
       "    }\n",
       "\n",
       "    .dataframe thead th {\n",
       "        text-align: right;\n",
       "    }\n",
       "</style>\n",
       "<table border=\"1\" class=\"dataframe\">\n",
       "  <thead>\n",
       "    <tr style=\"text-align: right;\">\n",
       "      <th></th>\n",
       "      <th>proto</th>\n",
       "      <th>state</th>\n",
       "      <th>sttl</th>\n",
       "      <th>dttl</th>\n",
       "      <th>service</th>\n",
       "      <th>swin</th>\n",
       "      <th>trans_depth</th>\n",
       "      <th>res_bdy_len</th>\n",
       "      <th>stime</th>\n",
       "      <th>sintpkt</th>\n",
       "      <th>...</th>\n",
       "      <th>dbytes_log1p</th>\n",
       "      <th>sload_log1p</th>\n",
       "      <th>dload_log1p</th>\n",
       "      <th>spkts_log1p</th>\n",
       "      <th>stcpb_log1p</th>\n",
       "      <th>dtcpb_log1p</th>\n",
       "      <th>smeansz_log1p</th>\n",
       "      <th>dmeansz_log1p</th>\n",
       "      <th>sjit_log1p</th>\n",
       "      <th>djit_log1p</th>\n",
       "    </tr>\n",
       "  </thead>\n",
       "  <tbody>\n",
       "    <tr>\n",
       "      <th>0</th>\n",
       "      <td>udp</td>\n",
       "      <td>CON</td>\n",
       "      <td>-0.426051</td>\n",
       "      <td>-0.041365</td>\n",
       "      <td>dns</td>\n",
       "      <td>-1.196045</td>\n",
       "      <td>-0.225343</td>\n",
       "      <td>-0.089113</td>\n",
       "      <td>-1.148407</td>\n",
       "      <td>-0.069615</td>\n",
       "      <td>...</td>\n",
       "      <td>-0.353736</td>\n",
       "      <td>-0.121716</td>\n",
       "      <td>0.482924</td>\n",
       "      <td>-1.080734</td>\n",
       "      <td>-1.190007</td>\n",
       "      <td>-1.189697</td>\n",
       "      <td>-0.374605</td>\n",
       "      <td>0.096502</td>\n",
       "      <td>-0.995343</td>\n",
       "      <td>-0.899657</td>\n",
       "    </tr>\n",
       "    <tr>\n",
       "      <th>1</th>\n",
       "      <td>udp</td>\n",
       "      <td>CON</td>\n",
       "      <td>-0.426051</td>\n",
       "      <td>-0.041365</td>\n",
       "      <td>dns</td>\n",
       "      <td>-1.196045</td>\n",
       "      <td>-0.225343</td>\n",
       "      <td>-0.089113</td>\n",
       "      <td>-1.163715</td>\n",
       "      <td>-0.069617</td>\n",
       "      <td>...</td>\n",
       "      <td>-0.353736</td>\n",
       "      <td>-0.112689</td>\n",
       "      <td>0.487911</td>\n",
       "      <td>-1.080734</td>\n",
       "      <td>-1.190007</td>\n",
       "      <td>-1.189697</td>\n",
       "      <td>-0.374605</td>\n",
       "      <td>0.096502</td>\n",
       "      <td>-0.995343</td>\n",
       "      <td>-0.899657</td>\n",
       "    </tr>\n",
       "    <tr>\n",
       "      <th>2</th>\n",
       "      <td>udp</td>\n",
       "      <td>INT</td>\n",
       "      <td>-0.037542</td>\n",
       "      <td>-0.717760</td>\n",
       "      <td>dns</td>\n",
       "      <td>-1.196045</td>\n",
       "      <td>-0.225343</td>\n",
       "      <td>-0.089113</td>\n",
       "      <td>0.855736</td>\n",
       "      <td>-0.069616</td>\n",
       "      <td>...</td>\n",
       "      <td>-1.703404</td>\n",
       "      <td>1.577442</td>\n",
       "      <td>-1.879995</td>\n",
       "      <td>-1.080734</td>\n",
       "      <td>-1.190007</td>\n",
       "      <td>-1.189697</td>\n",
       "      <td>0.565988</td>\n",
       "      <td>-1.850553</td>\n",
       "      <td>-0.995343</td>\n",
       "      <td>-0.899657</td>\n",
       "    </tr>\n",
       "    <tr>\n",
       "      <th>3</th>\n",
       "      <td>tcp</td>\n",
       "      <td>FIN</td>\n",
       "      <td>-0.426051</td>\n",
       "      <td>-0.041365</td>\n",
       "      <td>None</td>\n",
       "      <td>0.836096</td>\n",
       "      <td>-0.225343</td>\n",
       "      <td>-0.089113</td>\n",
       "      <td>-1.157963</td>\n",
       "      <td>-0.069518</td>\n",
       "      <td>...</td>\n",
       "      <td>0.327763</td>\n",
       "      <td>0.619603</td>\n",
       "      <td>0.775428</td>\n",
       "      <td>0.277671</td>\n",
       "      <td>0.898135</td>\n",
       "      <td>0.898496</td>\n",
       "      <td>1.366104</td>\n",
       "      <td>0.278308</td>\n",
       "      <td>-0.163891</td>\n",
       "      <td>-0.794201</td>\n",
       "    </tr>\n",
       "    <tr>\n",
       "      <th>4</th>\n",
       "      <td>udp</td>\n",
       "      <td>CON</td>\n",
       "      <td>-0.426051</td>\n",
       "      <td>-0.041365</td>\n",
       "      <td>dns</td>\n",
       "      <td>-1.196045</td>\n",
       "      <td>-0.225343</td>\n",
       "      <td>-0.089113</td>\n",
       "      <td>0.864749</td>\n",
       "      <td>-0.069616</td>\n",
       "      <td>...</td>\n",
       "      <td>-0.353736</td>\n",
       "      <td>-0.150173</td>\n",
       "      <td>0.467203</td>\n",
       "      <td>-1.080734</td>\n",
       "      <td>-1.190007</td>\n",
       "      <td>-1.189697</td>\n",
       "      <td>-0.374605</td>\n",
       "      <td>0.096502</td>\n",
       "      <td>-0.995343</td>\n",
       "      <td>-0.899657</td>\n",
       "    </tr>\n",
       "  </tbody>\n",
       "</table>\n",
       "<p>5 rows × 27 columns</p>\n",
       "</div>"
      ],
      "text/plain": [
       "  proto state      sttl      dttl service      swin  trans_depth  res_bdy_len  \\\n",
       "0   udp   CON -0.426051 -0.041365     dns -1.196045    -0.225343    -0.089113   \n",
       "1   udp   CON -0.426051 -0.041365     dns -1.196045    -0.225343    -0.089113   \n",
       "2   udp   INT -0.037542 -0.717760     dns -1.196045    -0.225343    -0.089113   \n",
       "3   tcp   FIN -0.426051 -0.041365    None  0.836096    -0.225343    -0.089113   \n",
       "4   udp   CON -0.426051 -0.041365     dns -1.196045    -0.225343    -0.089113   \n",
       "\n",
       "      stime   sintpkt  ...  dbytes_log1p  sload_log1p  dload_log1p  \\\n",
       "0 -1.148407 -0.069615  ...     -0.353736    -0.121716     0.482924   \n",
       "1 -1.163715 -0.069617  ...     -0.353736    -0.112689     0.487911   \n",
       "2  0.855736 -0.069616  ...     -1.703404     1.577442    -1.879995   \n",
       "3 -1.157963 -0.069518  ...      0.327763     0.619603     0.775428   \n",
       "4  0.864749 -0.069616  ...     -0.353736    -0.150173     0.467203   \n",
       "\n",
       "   spkts_log1p  stcpb_log1p  dtcpb_log1p  smeansz_log1p  dmeansz_log1p  \\\n",
       "0    -1.080734    -1.190007    -1.189697      -0.374605       0.096502   \n",
       "1    -1.080734    -1.190007    -1.189697      -0.374605       0.096502   \n",
       "2    -1.080734    -1.190007    -1.189697       0.565988      -1.850553   \n",
       "3     0.277671     0.898135     0.898496       1.366104       0.278308   \n",
       "4    -1.080734    -1.190007    -1.189697      -0.374605       0.096502   \n",
       "\n",
       "   sjit_log1p  djit_log1p  \n",
       "0   -0.995343   -0.899657  \n",
       "1   -0.995343   -0.899657  \n",
       "2   -0.995343   -0.899657  \n",
       "3   -0.163891   -0.794201  \n",
       "4   -0.995343   -0.899657  \n",
       "\n",
       "[5 rows x 27 columns]"
      ]
     },
     "execution_count": 172,
     "metadata": {},
     "output_type": "execute_result"
    }
   ],
   "source": [
    "x_test.head()"
   ]
  },
  {
   "cell_type": "code",
   "execution_count": 173,
   "id": "16bf738f",
   "metadata": {},
   "outputs": [],
   "source": [
    "# Onehot encoding categorical columns using ohencoding()\n",
    "x_test = ohencoding(x_test)"
   ]
  },
  {
   "cell_type": "code",
   "execution_count": 174,
   "id": "e1a9ca00",
   "metadata": {},
   "outputs": [
    {
     "data": {
      "text/html": [
       "<div>\n",
       "<style scoped>\n",
       "    .dataframe tbody tr th:only-of-type {\n",
       "        vertical-align: middle;\n",
       "    }\n",
       "\n",
       "    .dataframe tbody tr th {\n",
       "        vertical-align: top;\n",
       "    }\n",
       "\n",
       "    .dataframe thead th {\n",
       "        text-align: right;\n",
       "    }\n",
       "</style>\n",
       "<table border=\"1\" class=\"dataframe\">\n",
       "  <thead>\n",
       "    <tr style=\"text-align: right;\">\n",
       "      <th></th>\n",
       "      <th>sttl</th>\n",
       "      <th>dttl</th>\n",
       "      <th>swin</th>\n",
       "      <th>trans_depth</th>\n",
       "      <th>res_bdy_len</th>\n",
       "      <th>stime</th>\n",
       "      <th>sintpkt</th>\n",
       "      <th>dintpkt</th>\n",
       "      <th>tcprtt</th>\n",
       "      <th>synack</th>\n",
       "      <th>...</th>\n",
       "      <th>state_INT</th>\n",
       "      <th>state_MAS</th>\n",
       "      <th>state_PAR</th>\n",
       "      <th>state_REQ</th>\n",
       "      <th>state_RST</th>\n",
       "      <th>state_TST</th>\n",
       "      <th>state_TXD</th>\n",
       "      <th>state_URH</th>\n",
       "      <th>state_URN</th>\n",
       "      <th>state_no</th>\n",
       "    </tr>\n",
       "  </thead>\n",
       "  <tbody>\n",
       "    <tr>\n",
       "      <th>0</th>\n",
       "      <td>-0.426051</td>\n",
       "      <td>-0.041365</td>\n",
       "      <td>-1.196045</td>\n",
       "      <td>-0.225343</td>\n",
       "      <td>-0.089113</td>\n",
       "      <td>-1.148407</td>\n",
       "      <td>-0.069615</td>\n",
       "      <td>-0.055095</td>\n",
       "      <td>-0.136439</td>\n",
       "      <td>-0.128893</td>\n",
       "      <td>...</td>\n",
       "      <td>0.0</td>\n",
       "      <td>0.0</td>\n",
       "      <td>0.0</td>\n",
       "      <td>0.0</td>\n",
       "      <td>0.0</td>\n",
       "      <td>0.0</td>\n",
       "      <td>0.0</td>\n",
       "      <td>0.0</td>\n",
       "      <td>0.0</td>\n",
       "      <td>0.0</td>\n",
       "    </tr>\n",
       "    <tr>\n",
       "      <th>1</th>\n",
       "      <td>-0.426051</td>\n",
       "      <td>-0.041365</td>\n",
       "      <td>-1.196045</td>\n",
       "      <td>-0.225343</td>\n",
       "      <td>-0.089113</td>\n",
       "      <td>-1.163715</td>\n",
       "      <td>-0.069617</td>\n",
       "      <td>-0.055093</td>\n",
       "      <td>-0.136439</td>\n",
       "      <td>-0.128893</td>\n",
       "      <td>...</td>\n",
       "      <td>0.0</td>\n",
       "      <td>0.0</td>\n",
       "      <td>0.0</td>\n",
       "      <td>0.0</td>\n",
       "      <td>0.0</td>\n",
       "      <td>0.0</td>\n",
       "      <td>0.0</td>\n",
       "      <td>0.0</td>\n",
       "      <td>0.0</td>\n",
       "      <td>0.0</td>\n",
       "    </tr>\n",
       "    <tr>\n",
       "      <th>2</th>\n",
       "      <td>-0.037542</td>\n",
       "      <td>-0.717760</td>\n",
       "      <td>-1.196045</td>\n",
       "      <td>-0.225343</td>\n",
       "      <td>-0.089113</td>\n",
       "      <td>0.855736</td>\n",
       "      <td>-0.069616</td>\n",
       "      <td>-0.055099</td>\n",
       "      <td>-0.136439</td>\n",
       "      <td>-0.128893</td>\n",
       "      <td>...</td>\n",
       "      <td>1.0</td>\n",
       "      <td>0.0</td>\n",
       "      <td>0.0</td>\n",
       "      <td>0.0</td>\n",
       "      <td>0.0</td>\n",
       "      <td>0.0</td>\n",
       "      <td>0.0</td>\n",
       "      <td>0.0</td>\n",
       "      <td>0.0</td>\n",
       "      <td>0.0</td>\n",
       "    </tr>\n",
       "    <tr>\n",
       "      <th>3</th>\n",
       "      <td>-0.426051</td>\n",
       "      <td>-0.041365</td>\n",
       "      <td>0.836096</td>\n",
       "      <td>-0.225343</td>\n",
       "      <td>-0.089113</td>\n",
       "      <td>-1.157963</td>\n",
       "      <td>-0.069518</td>\n",
       "      <td>-0.054912</td>\n",
       "      <td>-0.121029</td>\n",
       "      <td>-0.107473</td>\n",
       "      <td>...</td>\n",
       "      <td>0.0</td>\n",
       "      <td>0.0</td>\n",
       "      <td>0.0</td>\n",
       "      <td>0.0</td>\n",
       "      <td>0.0</td>\n",
       "      <td>0.0</td>\n",
       "      <td>0.0</td>\n",
       "      <td>0.0</td>\n",
       "      <td>0.0</td>\n",
       "      <td>0.0</td>\n",
       "    </tr>\n",
       "    <tr>\n",
       "      <th>4</th>\n",
       "      <td>-0.426051</td>\n",
       "      <td>-0.041365</td>\n",
       "      <td>-1.196045</td>\n",
       "      <td>-0.225343</td>\n",
       "      <td>-0.089113</td>\n",
       "      <td>0.864749</td>\n",
       "      <td>-0.069616</td>\n",
       "      <td>-0.055095</td>\n",
       "      <td>-0.136439</td>\n",
       "      <td>-0.128893</td>\n",
       "      <td>...</td>\n",
       "      <td>0.0</td>\n",
       "      <td>0.0</td>\n",
       "      <td>0.0</td>\n",
       "      <td>0.0</td>\n",
       "      <td>0.0</td>\n",
       "      <td>0.0</td>\n",
       "      <td>0.0</td>\n",
       "      <td>0.0</td>\n",
       "      <td>0.0</td>\n",
       "      <td>0.0</td>\n",
       "    </tr>\n",
       "  </tbody>\n",
       "</table>\n",
       "<p>5 rows × 188 columns</p>\n",
       "</div>"
      ],
      "text/plain": [
       "       sttl      dttl      swin  trans_depth  res_bdy_len     stime   sintpkt  \\\n",
       "0 -0.426051 -0.041365 -1.196045    -0.225343    -0.089113 -1.148407 -0.069615   \n",
       "1 -0.426051 -0.041365 -1.196045    -0.225343    -0.089113 -1.163715 -0.069617   \n",
       "2 -0.037542 -0.717760 -1.196045    -0.225343    -0.089113  0.855736 -0.069616   \n",
       "3 -0.426051 -0.041365  0.836096    -0.225343    -0.089113 -1.157963 -0.069518   \n",
       "4 -0.426051 -0.041365 -1.196045    -0.225343    -0.089113  0.864749 -0.069616   \n",
       "\n",
       "    dintpkt    tcprtt    synack  ...  state_INT  state_MAS  state_PAR  \\\n",
       "0 -0.055095 -0.136439 -0.128893  ...        0.0        0.0        0.0   \n",
       "1 -0.055093 -0.136439 -0.128893  ...        0.0        0.0        0.0   \n",
       "2 -0.055099 -0.136439 -0.128893  ...        1.0        0.0        0.0   \n",
       "3 -0.054912 -0.121029 -0.107473  ...        0.0        0.0        0.0   \n",
       "4 -0.055095 -0.136439 -0.128893  ...        0.0        0.0        0.0   \n",
       "\n",
       "   state_REQ  state_RST  state_TST  state_TXD  state_URH  state_URN  state_no  \n",
       "0        0.0        0.0        0.0        0.0        0.0        0.0       0.0  \n",
       "1        0.0        0.0        0.0        0.0        0.0        0.0       0.0  \n",
       "2        0.0        0.0        0.0        0.0        0.0        0.0       0.0  \n",
       "3        0.0        0.0        0.0        0.0        0.0        0.0       0.0  \n",
       "4        0.0        0.0        0.0        0.0        0.0        0.0       0.0  \n",
       "\n",
       "[5 rows x 188 columns]"
      ]
     },
     "execution_count": 174,
     "metadata": {},
     "output_type": "execute_result"
    }
   ],
   "source": [
    "x_test.shape\n",
    "(762015, 197)\n",
    "x_test.head()"
   ]
  },
  {
   "cell_type": "code",
   "execution_count": 175,
   "id": "529d171a",
   "metadata": {},
   "outputs": [
    {
     "data": {
      "text/plain": [
       "True"
      ]
     },
     "execution_count": 175,
     "metadata": {},
     "output_type": "execute_result"
    }
   ],
   "source": [
    "# Comprobar que train y test tiene las mismas columnas\n",
    "all(x_train.columns == x_test.columns)"
   ]
  }
 ],
 "metadata": {
  "kernelspec": {
   "display_name": "Python 3.9 (tensorflow)",
   "language": "python",
   "name": "tensorflow"
  },
  "language_info": {
   "codemirror_mode": {
    "name": "ipython",
    "version": 3
   },
   "file_extension": ".py",
   "mimetype": "text/x-python",
   "name": "python",
   "nbconvert_exporter": "python",
   "pygments_lexer": "ipython3",
   "version": "3.9.7"
  }
 },
 "nbformat": 4,
 "nbformat_minor": 5
}
