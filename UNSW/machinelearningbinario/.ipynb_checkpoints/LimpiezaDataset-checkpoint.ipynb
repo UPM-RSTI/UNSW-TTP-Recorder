{
 "cells": [
  {
   "cell_type": "code",
   "execution_count": 5,
   "id": "fb0ef0b2",
   "metadata": {},
   "outputs": [],
   "source": [
    "import datetime\n",
    "import pandas as pd\n",
    "from pandas import read_csv\n",
    "from pyspark import SparkConf\n",
    "from pyspark.context import SparkContext\n",
    "from pyspark.sql.session import SparkSession\n",
    "from pyspark.sql.types import *\n",
    "from pyspark.ml.feature import StringIndexer\n",
    "from imblearn.over_sampling import SMOTE\n",
    "from imblearn.under_sampling import RandomUnderSampler \n",
    "from collections import Counter"
   ]
  },
  {
   "cell_type": "code",
   "execution_count": 9,
   "id": "8c4cfaee",
   "metadata": {},
   "outputs": [
    {
     "name": "stderr",
     "output_type": "stream",
     "text": [
      "Setting default log level to \"WARN\".\n",
      "To adjust logging level use sc.setLogLevel(newLevel). For SparkR, use setLogLevel(newLevel).\n",
      "24/03/11 12:05:45 WARN NativeCodeLoader: Unable to load native-hadoop library for your platform... using builtin-java classes where applicable\n"
     ]
    }
   ],
   "source": [
    "# Iniciamos una sesion de Spark\n",
    "conf= SparkConf().setAll([('spark.executor.memory', '8g'),('spark.driver.memory','8g')])\n",
    "sc = SparkContext(conf=conf)\n",
    "spark = SparkSession(sc)"
   ]
  },
  {
   "cell_type": "code",
   "execution_count": 10,
   "id": "0a0d5f85",
   "metadata": {},
   "outputs": [
    {
     "name": "stdout",
     "output_type": "stream",
     "text": [
      "Viewing the beggining of the dataset...\n"
     ]
    }
   ],
   "source": [
    "print(\"Viewing the beggining of the dataset...\")"
   ]
  },
  {
   "cell_type": "code",
   "execution_count": 11,
   "id": "cddc3a2c",
   "metadata": {},
   "outputs": [],
   "source": [
    "schema = StructType([\n",
    "StructField('srcip', StringType(), True), \n",
    "StructField('sport', IntegerType(), True), \n",
    "StructField('dstip', StringType(), True), \n",
    "StructField('dsport',IntegerType(), True), \n",
    "StructField('proto',StringType() , True), \n",
    "StructField('state', StringType(), True), \n",
    "StructField('dur', DoubleType(), True), \n",
    "StructField('sbytes', IntegerType(), True), \n",
    "StructField('dbytes', IntegerType(), True), \n",
    "StructField('sttl', IntegerType(), True), \n",
    "StructField('dttl', IntegerType(), True), \n",
    "StructField('sloss', IntegerType(), True), \n",
    "StructField('dloss', IntegerType(), True), \n",
    "StructField('service', StringType(), True), \n",
    "StructField('Sload', DoubleType(), True), \n",
    "StructField('Dload', DoubleType(), True), \n",
    "StructField('Spkts',IntegerType(), True), \n",
    "StructField('Dpkts',IntegerType(), True), \n",
    "StructField('swin', IntegerType(), True), \n",
    "StructField('dwin', IntegerType(), True), \n",
    "StructField('stcpb', DoubleType(), True), \n",
    "StructField('dtcpb', DoubleType(), True), \n",
    "StructField('smeansz', IntegerType(), True),\n",
    "StructField('dmeansz', IntegerType(), True),\n",
    "StructField('trans_depth',IntegerType(), True), \n",
    "StructField('res_bdy_len',IntegerType(), True), \n",
    "StructField('Sjit',DoubleType(), True),\n",
    "StructField('Djit',DoubleType(), True), \n",
    "StructField('Stime',IntegerType(), True), \n",
    "StructField('Ltime', IntegerType(), True), \n",
    "StructField('Sintpkt',DoubleType(), True), \n",
    "StructField('Dintpkt',DoubleType(), True), \n",
    "StructField('tcprtt',DoubleType(), True), \n",
    "StructField('synack',DoubleType(), True), \n",
    "StructField('ackdat',DoubleType(), True), \n",
    "StructField('is_sm_ips_ports',IntegerType(), True), \n",
    "StructField('ct_state_ttl',IntegerType(), True), \n",
    "StructField('ct_flw_http_mthd',IntegerType(), True), \n",
    "StructField('is_ftp_login',IntegerType(), True), \n",
    "StructField('ct_ftp_cm',IntegerType(), True), \n",
    "StructField('ct_srv_src',IntegerType(), True), \n",
    "StructField('ct_srv_dst',IntegerType(), True), \n",
    "StructField('ct_dst_ltm',IntegerType(), True),\n",
    "StructField('ct_src_ltm',IntegerType(), True), \n",
    "StructField('ct_src_dport_ltm',IntegerType(), True), \n",
    "StructField('ct_dst_sport_ltm',IntegerType(), True), \n",
    "StructField('ct_dst_src_ltm',IntegerType(), True), \n",
    "StructField('attack_cat',StringType(), True), \n",
    "StructField('label',IntegerType(), True)])"
   ]
  },
  {
   "cell_type": "code",
   "execution_count": 8,
   "id": "884a40f8",
   "metadata": {},
   "outputs": [
    {
     "name": "stderr",
     "output_type": "stream",
     "text": [
      "/opt/miniconda3/lib/python3.9/site-packages/IPython/core/interactiveshell.py:3444: DtypeWarning: Columns (1,3,47) have mixed types.Specify dtype option on import or set low_memory=False.\n",
      "  exec(code_obj, self.user_global_ns, self.user_ns)\n",
      "/opt/miniconda3/lib/python3.9/site-packages/IPython/core/interactiveshell.py:3444: DtypeWarning: Columns (3,39,47) have mixed types.Specify dtype option on import or set low_memory=False.\n",
      "  exec(code_obj, self.user_global_ns, self.user_ns)\n"
     ]
    },
    {
     "ename": "AttributeError",
     "evalue": "'DataFrame' object has no attribute 'show'",
     "output_type": "error",
     "traceback": [
      "\u001b[0;31m---------------------------------------------------------------------------\u001b[0m",
      "\u001b[0;31mAttributeError\u001b[0m                            Traceback (most recent call last)",
      "\u001b[0;32m/var/folders/4z/pp6kj2tx5v56nmc_vs0p7rbr0000gn/T/ipykernel_92402/104063009.py\u001b[0m in \u001b[0;36m<module>\u001b[0;34m\u001b[0m\n\u001b[1;32m      5\u001b[0m     \u001b[0mdfs\u001b[0m\u001b[0;34m.\u001b[0m\u001b[0mappend\u001b[0m\u001b[0;34m(\u001b[0m\u001b[0mpd\u001b[0m\u001b[0;34m.\u001b[0m\u001b[0mread_csv\u001b[0m\u001b[0;34m(\u001b[0m\u001b[0mpath\u001b[0m\u001b[0;34m.\u001b[0m\u001b[0mformat\u001b[0m\u001b[0;34m(\u001b[0m\u001b[0mi\u001b[0m\u001b[0;34m)\u001b[0m\u001b[0;34m,\u001b[0m \u001b[0mheader\u001b[0m \u001b[0;34m=\u001b[0m \u001b[0;32mNone\u001b[0m\u001b[0;34m)\u001b[0m\u001b[0;34m)\u001b[0m\u001b[0;34m\u001b[0m\u001b[0;34m\u001b[0m\u001b[0m\n\u001b[1;32m      6\u001b[0m \u001b[0mdataset\u001b[0m \u001b[0;34m=\u001b[0m \u001b[0mpd\u001b[0m\u001b[0;34m.\u001b[0m\u001b[0mconcat\u001b[0m\u001b[0;34m(\u001b[0m\u001b[0mdfs\u001b[0m\u001b[0;34m)\u001b[0m\u001b[0;34m.\u001b[0m\u001b[0mreset_index\u001b[0m\u001b[0;34m(\u001b[0m\u001b[0mdrop\u001b[0m\u001b[0;34m=\u001b[0m\u001b[0;32mTrue\u001b[0m\u001b[0;34m)\u001b[0m  \u001b[0;31m# Concat all to a single df\u001b[0m\u001b[0;34m\u001b[0m\u001b[0;34m\u001b[0m\u001b[0m\n\u001b[0;32m----> 7\u001b[0;31m \u001b[0mdataset\u001b[0m\u001b[0;34m.\u001b[0m\u001b[0mshow\u001b[0m\u001b[0;34m(\u001b[0m\u001b[0;36m25\u001b[0m\u001b[0;34m)\u001b[0m\u001b[0;34m\u001b[0m\u001b[0;34m\u001b[0m\u001b[0m\n\u001b[0m",
      "\u001b[0;32m/opt/miniconda3/lib/python3.9/site-packages/pandas/core/generic.py\u001b[0m in \u001b[0;36m__getattr__\u001b[0;34m(self, name)\u001b[0m\n\u001b[1;32m   5485\u001b[0m         ):\n\u001b[1;32m   5486\u001b[0m             \u001b[0;32mreturn\u001b[0m \u001b[0mself\u001b[0m\u001b[0;34m[\u001b[0m\u001b[0mname\u001b[0m\u001b[0;34m]\u001b[0m\u001b[0;34m\u001b[0m\u001b[0;34m\u001b[0m\u001b[0m\n\u001b[0;32m-> 5487\u001b[0;31m         \u001b[0;32mreturn\u001b[0m \u001b[0mobject\u001b[0m\u001b[0;34m.\u001b[0m\u001b[0m__getattribute__\u001b[0m\u001b[0;34m(\u001b[0m\u001b[0mself\u001b[0m\u001b[0;34m,\u001b[0m \u001b[0mname\u001b[0m\u001b[0;34m)\u001b[0m\u001b[0;34m\u001b[0m\u001b[0;34m\u001b[0m\u001b[0m\n\u001b[0m\u001b[1;32m   5488\u001b[0m \u001b[0;34m\u001b[0m\u001b[0m\n\u001b[1;32m   5489\u001b[0m     \u001b[0;32mdef\u001b[0m \u001b[0m__setattr__\u001b[0m\u001b[0;34m(\u001b[0m\u001b[0mself\u001b[0m\u001b[0;34m,\u001b[0m \u001b[0mname\u001b[0m\u001b[0;34m:\u001b[0m \u001b[0mstr\u001b[0m\u001b[0;34m,\u001b[0m \u001b[0mvalue\u001b[0m\u001b[0;34m)\u001b[0m \u001b[0;34m->\u001b[0m \u001b[0;32mNone\u001b[0m\u001b[0;34m:\u001b[0m\u001b[0;34m\u001b[0m\u001b[0;34m\u001b[0m\u001b[0m\n",
      "\u001b[0;31mAttributeError\u001b[0m: 'DataFrame' object has no attribute 'show'"
     ]
    }
   ],
   "source": [
    "# Reading datasets\n",
    "dfs = []\n",
    "for i in range(1,5):\n",
    "    path = './UNSW-NB15_{}.csv'  # There are 4 input csv files\n",
    "    dfs.append(pd.read_csv(path.format(i), header = None))\n",
    "dataset = pd.concat(dfs).reset_index(drop=True)  # Concat all to a single df\n",
    "dataset.to_csv('dataset.csv', index=False)\n"
   ]
  },
  {
   "cell_type": "code",
   "execution_count": null,
   "id": "c62573d8",
   "metadata": {},
   "outputs": [],
   "source": []
  }
 ],
 "metadata": {
  "kernelspec": {
   "display_name": "Python 3.9 (tensorflow)",
   "language": "python",
   "name": "tensorflow"
  },
  "language_info": {
   "codemirror_mode": {
    "name": "ipython",
    "version": 3
   },
   "file_extension": ".py",
   "mimetype": "text/x-python",
   "name": "python",
   "nbconvert_exporter": "python",
   "pygments_lexer": "ipython3",
   "version": "3.9.7"
  }
 },
 "nbformat": 4,
 "nbformat_minor": 5
}
