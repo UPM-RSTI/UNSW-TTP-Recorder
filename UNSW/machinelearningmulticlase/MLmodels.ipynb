{
 "cells": [
  {
   "cell_type": "code",
   "execution_count": 1,
   "id": "b114cef4",
   "metadata": {},
   "outputs": [],
   "source": [
    "import numpy as np\n",
    "import pandas as pd \n",
    "from scipy import stats\n",
    "from tqdm import tqdm\n",
    "import matplotlib.pyplot as plt \n",
    "import seaborn as sns  \n",
    "\n",
    "import pickle\n",
    "\n",
    "import warnings\n",
    "warnings.filterwarnings(\"ignore\")\n",
    "\n",
    "from prettytable import PrettyTable\n",
    "\n",
    "from sklearn.preprocessing import StandardScaler  # Standardizer\n",
    "from sklearn.preprocessing import LabelEncoder, OneHotEncoder  # One hot Encoder\n",
    "from scipy.sparse import csr_matrix  # For sparse matrix\n",
    "\n",
    "from sklearn.model_selection import train_test_split\n",
    "from sklearn.linear_model import LogisticRegression, SGDClassifier  # Logistic Regression\n",
    "from sklearn.svm import LinearSVC  # SVM\n",
    "from sklearn.tree import DecisionTreeClassifier  #DecisionTree\n",
    "from sklearn.ensemble import RandomForestClassifier  # RandomForest\n",
    "import xgboost as xgb  #XGB\n",
    "\n",
    "from sklearn.metrics import classification_report, roc_auc_score, f1_score\n",
    "\n",
    "from sklearn.metrics import accuracy_score, confusion_matrix, make_scorer  # Scoring functions\n",
    "from sklearn.metrics import auc, f1_score, roc_curve, roc_auc_score  # Scoring fns\n",
    "from sklearn.model_selection import GridSearchCV, RandomizedSearchCV  # Cross validation\n",
    "\n",
    "%matplotlib inline"
   ]
  },
  {
   "cell_type": "code",
   "execution_count": 2,
   "id": "8993fd4a",
   "metadata": {},
   "outputs": [],
   "source": [
    "file_path = \"./final-ipynb\""
   ]
  },
  {
   "cell_type": "code",
   "execution_count": 3,
   "id": "e14556c1",
   "metadata": {},
   "outputs": [],
   "source": [
    "# Cargar datos de test y train\n",
    "x_train, y_train = pickle.load(open(file_path+'/final_train.pkl', 'rb'))\n",
    "x_test, y_test = pickle.load(open(file_path+'/final_test.pkl', 'rb'))\n",
    "\n",
    "# Diccionarios\n",
    "saved_dict = pickle.load(open(file_path+'/saved_dict.pkl', 'rb'))\n",
    "mode_dict = pickle.load(open(file_path+'/mode_dict.pkl', 'rb'))\n",
    "\n",
    "# Standard scaler\n",
    "scaler = pickle.load(open(file_path+'/scaler.pkl', 'rb'))\n",
    "\n",
    "# Encoders one-hot\n",
    "ohe_proto = pickle.load(open(file_path+'/ohe_proto.pkl', 'rb'))\n",
    "ohe_service = pickle.load(open(file_path+'/ohe_service.pkl', 'rb'))\n",
    "ohe_state = pickle.load(open(file_path+'/ohe_state.pkl', 'rb'))"
   ]
  },
  {
   "cell_type": "code",
   "execution_count": 4,
   "id": "1bc5638f",
   "metadata": {},
   "outputs": [
    {
     "data": {
      "text/html": [
       "<div>\n",
       "<style scoped>\n",
       "    .dataframe tbody tr th:only-of-type {\n",
       "        vertical-align: middle;\n",
       "    }\n",
       "\n",
       "    .dataframe tbody tr th {\n",
       "        vertical-align: top;\n",
       "    }\n",
       "\n",
       "    .dataframe thead th {\n",
       "        text-align: right;\n",
       "    }\n",
       "</style>\n",
       "<table border=\"1\" class=\"dataframe\">\n",
       "  <thead>\n",
       "    <tr style=\"text-align: right;\">\n",
       "      <th></th>\n",
       "      <th>sttl</th>\n",
       "      <th>dttl</th>\n",
       "      <th>swin</th>\n",
       "      <th>trans_depth</th>\n",
       "      <th>res_bdy_len</th>\n",
       "      <th>stime</th>\n",
       "      <th>sintpkt</th>\n",
       "      <th>dintpkt</th>\n",
       "      <th>tcprtt</th>\n",
       "      <th>synack</th>\n",
       "      <th>...</th>\n",
       "      <th>state_INT</th>\n",
       "      <th>state_MAS</th>\n",
       "      <th>state_PAR</th>\n",
       "      <th>state_REQ</th>\n",
       "      <th>state_RST</th>\n",
       "      <th>state_TST</th>\n",
       "      <th>state_TXD</th>\n",
       "      <th>state_URH</th>\n",
       "      <th>state_URN</th>\n",
       "      <th>state_no</th>\n",
       "    </tr>\n",
       "  </thead>\n",
       "  <tbody>\n",
       "    <tr>\n",
       "      <th>0</th>\n",
       "      <td>2.561444</td>\n",
       "      <td>-0.717760</td>\n",
       "      <td>-1.196045</td>\n",
       "      <td>-0.225343</td>\n",
       "      <td>-0.089113</td>\n",
       "      <td>-1.172764</td>\n",
       "      <td>-0.057567</td>\n",
       "      <td>-0.055099</td>\n",
       "      <td>-0.136439</td>\n",
       "      <td>-0.128893</td>\n",
       "      <td>...</td>\n",
       "      <td>1.0</td>\n",
       "      <td>0.0</td>\n",
       "      <td>0.0</td>\n",
       "      <td>0.0</td>\n",
       "      <td>0.0</td>\n",
       "      <td>0.0</td>\n",
       "      <td>0.0</td>\n",
       "      <td>0.0</td>\n",
       "      <td>0.0</td>\n",
       "      <td>0.0</td>\n",
       "    </tr>\n",
       "    <tr>\n",
       "      <th>1</th>\n",
       "      <td>-0.037542</td>\n",
       "      <td>-0.717760</td>\n",
       "      <td>-1.196045</td>\n",
       "      <td>-0.225343</td>\n",
       "      <td>-0.089113</td>\n",
       "      <td>0.868469</td>\n",
       "      <td>-0.069616</td>\n",
       "      <td>-0.055099</td>\n",
       "      <td>-0.136439</td>\n",
       "      <td>-0.128893</td>\n",
       "      <td>...</td>\n",
       "      <td>1.0</td>\n",
       "      <td>0.0</td>\n",
       "      <td>0.0</td>\n",
       "      <td>0.0</td>\n",
       "      <td>0.0</td>\n",
       "      <td>0.0</td>\n",
       "      <td>0.0</td>\n",
       "      <td>0.0</td>\n",
       "      <td>0.0</td>\n",
       "      <td>0.0</td>\n",
       "    </tr>\n",
       "    <tr>\n",
       "      <th>2</th>\n",
       "      <td>-0.426051</td>\n",
       "      <td>-0.041365</td>\n",
       "      <td>0.836096</td>\n",
       "      <td>-0.225343</td>\n",
       "      <td>-0.089113</td>\n",
       "      <td>-1.157401</td>\n",
       "      <td>-0.069485</td>\n",
       "      <td>-0.054857</td>\n",
       "      <td>-0.121383</td>\n",
       "      <td>-0.107394</td>\n",
       "      <td>...</td>\n",
       "      <td>0.0</td>\n",
       "      <td>0.0</td>\n",
       "      <td>0.0</td>\n",
       "      <td>0.0</td>\n",
       "      <td>0.0</td>\n",
       "      <td>0.0</td>\n",
       "      <td>0.0</td>\n",
       "      <td>0.0</td>\n",
       "      <td>0.0</td>\n",
       "      <td>0.0</td>\n",
       "    </tr>\n",
       "    <tr>\n",
       "      <th>3</th>\n",
       "      <td>-0.426051</td>\n",
       "      <td>-0.041365</td>\n",
       "      <td>0.836096</td>\n",
       "      <td>-0.225343</td>\n",
       "      <td>-0.089113</td>\n",
       "      <td>-1.136357</td>\n",
       "      <td>-0.063807</td>\n",
       "      <td>-0.044512</td>\n",
       "      <td>-0.120830</td>\n",
       "      <td>-0.107159</td>\n",
       "      <td>...</td>\n",
       "      <td>0.0</td>\n",
       "      <td>0.0</td>\n",
       "      <td>0.0</td>\n",
       "      <td>0.0</td>\n",
       "      <td>0.0</td>\n",
       "      <td>0.0</td>\n",
       "      <td>0.0</td>\n",
       "      <td>0.0</td>\n",
       "      <td>0.0</td>\n",
       "      <td>0.0</td>\n",
       "    </tr>\n",
       "    <tr>\n",
       "      <th>4</th>\n",
       "      <td>-0.426051</td>\n",
       "      <td>-0.041365</td>\n",
       "      <td>0.836096</td>\n",
       "      <td>-0.225343</td>\n",
       "      <td>-0.089113</td>\n",
       "      <td>-1.144197</td>\n",
       "      <td>-0.069180</td>\n",
       "      <td>-0.054358</td>\n",
       "      <td>-0.123351</td>\n",
       "      <td>-0.110421</td>\n",
       "      <td>...</td>\n",
       "      <td>0.0</td>\n",
       "      <td>0.0</td>\n",
       "      <td>0.0</td>\n",
       "      <td>0.0</td>\n",
       "      <td>0.0</td>\n",
       "      <td>0.0</td>\n",
       "      <td>0.0</td>\n",
       "      <td>0.0</td>\n",
       "      <td>0.0</td>\n",
       "      <td>0.0</td>\n",
       "    </tr>\n",
       "  </tbody>\n",
       "</table>\n",
       "<p>5 rows × 196 columns</p>\n",
       "</div>"
      ],
      "text/plain": [
       "       sttl      dttl      swin  trans_depth  res_bdy_len     stime   sintpkt  \\\n",
       "0  2.561444 -0.717760 -1.196045    -0.225343    -0.089113 -1.172764 -0.057567   \n",
       "1 -0.037542 -0.717760 -1.196045    -0.225343    -0.089113  0.868469 -0.069616   \n",
       "2 -0.426051 -0.041365  0.836096    -0.225343    -0.089113 -1.157401 -0.069485   \n",
       "3 -0.426051 -0.041365  0.836096    -0.225343    -0.089113 -1.136357 -0.063807   \n",
       "4 -0.426051 -0.041365  0.836096    -0.225343    -0.089113 -1.144197 -0.069180   \n",
       "\n",
       "    dintpkt    tcprtt    synack  ...  state_INT  state_MAS  state_PAR  \\\n",
       "0 -0.055099 -0.136439 -0.128893  ...        1.0        0.0        0.0   \n",
       "1 -0.055099 -0.136439 -0.128893  ...        1.0        0.0        0.0   \n",
       "2 -0.054857 -0.121383 -0.107394  ...        0.0        0.0        0.0   \n",
       "3 -0.044512 -0.120830 -0.107159  ...        0.0        0.0        0.0   \n",
       "4 -0.054358 -0.123351 -0.110421  ...        0.0        0.0        0.0   \n",
       "\n",
       "   state_REQ  state_RST  state_TST  state_TXD  state_URH  state_URN  state_no  \n",
       "0        0.0        0.0        0.0        0.0        0.0        0.0       0.0  \n",
       "1        0.0        0.0        0.0        0.0        0.0        0.0       0.0  \n",
       "2        0.0        0.0        0.0        0.0        0.0        0.0       0.0  \n",
       "3        0.0        0.0        0.0        0.0        0.0        0.0       0.0  \n",
       "4        0.0        0.0        0.0        0.0        0.0        0.0       0.0  \n",
       "\n",
       "[5 rows x 196 columns]"
      ]
     },
     "execution_count": 4,
     "metadata": {},
     "output_type": "execute_result"
    }
   ],
   "source": [
    "x_train.head()"
   ]
  },
  {
   "cell_type": "code",
   "execution_count": 5,
   "id": "1c247eea",
   "metadata": {},
   "outputs": [],
   "source": [
    "# Crear la matriz dispersa de train\n",
    "x_train_csr = csr_matrix(x_train.values)\n",
    "\n",
    "col = x_train.columns\n",
    "\n",
    "x_train = pd.DataFrame.sparse.from_spmatrix(x_train_csr, columns=col)"
   ]
  },
  {
   "cell_type": "code",
   "execution_count": 6,
   "id": "551488da",
   "metadata": {},
   "outputs": [],
   "source": [
    "pickle.dump((x_train, y_train), open(file_path+'/train_sparse.pkl', 'wb'))\n",
    "\n",
    "x_train, y_train = pickle.load(open(file_path+'/train_sparse.pkl', 'rb'))"
   ]
  },
  {
   "cell_type": "code",
   "execution_count": 7,
   "id": "735cfd2c",
   "metadata": {},
   "outputs": [
    {
     "data": {
      "text/html": [
       "<div>\n",
       "<style scoped>\n",
       "    .dataframe tbody tr th:only-of-type {\n",
       "        vertical-align: middle;\n",
       "    }\n",
       "\n",
       "    .dataframe tbody tr th {\n",
       "        vertical-align: top;\n",
       "    }\n",
       "\n",
       "    .dataframe thead th {\n",
       "        text-align: right;\n",
       "    }\n",
       "</style>\n",
       "<table border=\"1\" class=\"dataframe\">\n",
       "  <thead>\n",
       "    <tr style=\"text-align: right;\">\n",
       "      <th></th>\n",
       "      <th>sttl</th>\n",
       "      <th>dttl</th>\n",
       "      <th>swin</th>\n",
       "      <th>trans_depth</th>\n",
       "      <th>res_bdy_len</th>\n",
       "      <th>stime</th>\n",
       "      <th>sintpkt</th>\n",
       "      <th>dintpkt</th>\n",
       "      <th>tcprtt</th>\n",
       "      <th>synack</th>\n",
       "      <th>...</th>\n",
       "      <th>state_INT</th>\n",
       "      <th>state_MAS</th>\n",
       "      <th>state_PAR</th>\n",
       "      <th>state_REQ</th>\n",
       "      <th>state_RST</th>\n",
       "      <th>state_TST</th>\n",
       "      <th>state_TXD</th>\n",
       "      <th>state_URH</th>\n",
       "      <th>state_URN</th>\n",
       "      <th>state_no</th>\n",
       "    </tr>\n",
       "  </thead>\n",
       "  <tbody>\n",
       "    <tr>\n",
       "      <th>0</th>\n",
       "      <td>2.561444</td>\n",
       "      <td>-0.717760</td>\n",
       "      <td>-1.196045</td>\n",
       "      <td>-0.225343</td>\n",
       "      <td>-0.089113</td>\n",
       "      <td>-1.172764</td>\n",
       "      <td>-0.057567</td>\n",
       "      <td>-0.055099</td>\n",
       "      <td>-0.136439</td>\n",
       "      <td>-0.128893</td>\n",
       "      <td>...</td>\n",
       "      <td>1.0</td>\n",
       "      <td>0.0</td>\n",
       "      <td>0.0</td>\n",
       "      <td>0.0</td>\n",
       "      <td>0.0</td>\n",
       "      <td>0.0</td>\n",
       "      <td>0.0</td>\n",
       "      <td>0.0</td>\n",
       "      <td>0.0</td>\n",
       "      <td>0.0</td>\n",
       "    </tr>\n",
       "    <tr>\n",
       "      <th>1</th>\n",
       "      <td>-0.037542</td>\n",
       "      <td>-0.717760</td>\n",
       "      <td>-1.196045</td>\n",
       "      <td>-0.225343</td>\n",
       "      <td>-0.089113</td>\n",
       "      <td>0.868469</td>\n",
       "      <td>-0.069616</td>\n",
       "      <td>-0.055099</td>\n",
       "      <td>-0.136439</td>\n",
       "      <td>-0.128893</td>\n",
       "      <td>...</td>\n",
       "      <td>1.0</td>\n",
       "      <td>0.0</td>\n",
       "      <td>0.0</td>\n",
       "      <td>0.0</td>\n",
       "      <td>0.0</td>\n",
       "      <td>0.0</td>\n",
       "      <td>0.0</td>\n",
       "      <td>0.0</td>\n",
       "      <td>0.0</td>\n",
       "      <td>0.0</td>\n",
       "    </tr>\n",
       "    <tr>\n",
       "      <th>2</th>\n",
       "      <td>-0.426051</td>\n",
       "      <td>-0.041365</td>\n",
       "      <td>0.836096</td>\n",
       "      <td>-0.225343</td>\n",
       "      <td>-0.089113</td>\n",
       "      <td>-1.157401</td>\n",
       "      <td>-0.069485</td>\n",
       "      <td>-0.054857</td>\n",
       "      <td>-0.121383</td>\n",
       "      <td>-0.107394</td>\n",
       "      <td>...</td>\n",
       "      <td>0.0</td>\n",
       "      <td>0.0</td>\n",
       "      <td>0.0</td>\n",
       "      <td>0.0</td>\n",
       "      <td>0.0</td>\n",
       "      <td>0.0</td>\n",
       "      <td>0.0</td>\n",
       "      <td>0.0</td>\n",
       "      <td>0.0</td>\n",
       "      <td>0.0</td>\n",
       "    </tr>\n",
       "    <tr>\n",
       "      <th>3</th>\n",
       "      <td>-0.426051</td>\n",
       "      <td>-0.041365</td>\n",
       "      <td>0.836096</td>\n",
       "      <td>-0.225343</td>\n",
       "      <td>-0.089113</td>\n",
       "      <td>-1.136357</td>\n",
       "      <td>-0.063807</td>\n",
       "      <td>-0.044512</td>\n",
       "      <td>-0.120830</td>\n",
       "      <td>-0.107159</td>\n",
       "      <td>...</td>\n",
       "      <td>0.0</td>\n",
       "      <td>0.0</td>\n",
       "      <td>0.0</td>\n",
       "      <td>0.0</td>\n",
       "      <td>0.0</td>\n",
       "      <td>0.0</td>\n",
       "      <td>0.0</td>\n",
       "      <td>0.0</td>\n",
       "      <td>0.0</td>\n",
       "      <td>0.0</td>\n",
       "    </tr>\n",
       "    <tr>\n",
       "      <th>4</th>\n",
       "      <td>-0.426051</td>\n",
       "      <td>-0.041365</td>\n",
       "      <td>0.836096</td>\n",
       "      <td>-0.225343</td>\n",
       "      <td>-0.089113</td>\n",
       "      <td>-1.144197</td>\n",
       "      <td>-0.069180</td>\n",
       "      <td>-0.054358</td>\n",
       "      <td>-0.123351</td>\n",
       "      <td>-0.110421</td>\n",
       "      <td>...</td>\n",
       "      <td>0.0</td>\n",
       "      <td>0.0</td>\n",
       "      <td>0.0</td>\n",
       "      <td>0.0</td>\n",
       "      <td>0.0</td>\n",
       "      <td>0.0</td>\n",
       "      <td>0.0</td>\n",
       "      <td>0.0</td>\n",
       "      <td>0.0</td>\n",
       "      <td>0.0</td>\n",
       "    </tr>\n",
       "  </tbody>\n",
       "</table>\n",
       "<p>5 rows × 196 columns</p>\n",
       "</div>"
      ],
      "text/plain": [
       "       sttl      dttl      swin  trans_depth  res_bdy_len     stime   sintpkt  \\\n",
       "0  2.561444 -0.717760 -1.196045    -0.225343    -0.089113 -1.172764 -0.057567   \n",
       "1 -0.037542 -0.717760 -1.196045    -0.225343    -0.089113  0.868469 -0.069616   \n",
       "2 -0.426051 -0.041365  0.836096    -0.225343    -0.089113 -1.157401 -0.069485   \n",
       "3 -0.426051 -0.041365  0.836096    -0.225343    -0.089113 -1.136357 -0.063807   \n",
       "4 -0.426051 -0.041365  0.836096    -0.225343    -0.089113 -1.144197 -0.069180   \n",
       "\n",
       "    dintpkt    tcprtt    synack  ...  state_INT  state_MAS  state_PAR  \\\n",
       "0 -0.055099 -0.136439 -0.128893  ...        1.0        0.0        0.0   \n",
       "1 -0.055099 -0.136439 -0.128893  ...        1.0        0.0        0.0   \n",
       "2 -0.054857 -0.121383 -0.107394  ...        0.0        0.0        0.0   \n",
       "3 -0.044512 -0.120830 -0.107159  ...        0.0        0.0        0.0   \n",
       "4 -0.054358 -0.123351 -0.110421  ...        0.0        0.0        0.0   \n",
       "\n",
       "   state_REQ  state_RST  state_TST  state_TXD  state_URH  state_URN  state_no  \n",
       "0        0.0        0.0        0.0        0.0        0.0        0.0       0.0  \n",
       "1        0.0        0.0        0.0        0.0        0.0        0.0       0.0  \n",
       "2        0.0        0.0        0.0        0.0        0.0        0.0       0.0  \n",
       "3        0.0        0.0        0.0        0.0        0.0        0.0       0.0  \n",
       "4        0.0        0.0        0.0        0.0        0.0        0.0       0.0  \n",
       "\n",
       "[5 rows x 196 columns]"
      ]
     },
     "execution_count": 7,
     "metadata": {},
     "output_type": "execute_result"
    }
   ],
   "source": [
    "x_train.sparse.to_dense().head()"
   ]
  },
  {
   "cell_type": "code",
   "execution_count": 8,
   "id": "0d6bc51d",
   "metadata": {},
   "outputs": [
    {
     "data": {
      "text/plain": [
       "((1778032, 196), (1778032,))"
      ]
     },
     "execution_count": 8,
     "metadata": {},
     "output_type": "execute_result"
    }
   ],
   "source": [
    "x_train.shape, y_train.shape"
   ]
  },
  {
   "cell_type": "code",
   "execution_count": 9,
   "id": "ad722a08",
   "metadata": {},
   "outputs": [],
   "source": [
    "#Limpieza de datos\n",
    "\n",
    "def clean_data(data):\n",
    "\n",
    "    #Elimina los valores nulos y erróneos \n",
    "    \n",
    "    numerical_col = data.select_dtypes(include=np.number).columns \n",
    "    categorical_col = data.select_dtypes(exclude=np.number).columns\n",
    "    \n",
    "    # Cleaning the data\n",
    "    for col in data.columns:\n",
    "        val = mode_dict[col]  # Sustituye los valores nulos por el valor modal\n",
    "        data[col] = data[col].fillna(value=val)\n",
    "        data[col] = data[col].replace(' ', value=val)\n",
    "        data[col] = data[col].apply(lambda x:\"None\" if x==\"-\" else x)\n",
    "\n",
    "        # Si son binarias y el valor es >1 se sustituye por el valor modal\n",
    "        if col in saved_dict['binary_col']:\n",
    "            data[col] = np.where(data[col]>1, val, data[col])\n",
    "\n",
    "    # Convertir columnas de tipo erróneo\n",
    "    bad_dtypes = list(set(categorical_col) - set(saved_dict['cat_col']))\n",
    "    for bad_col in bad_dtypes:\n",
    "        data[col] = data[col].astype(float)\n",
    "    \n",
    "    return data\n",
    "\n",
    "\n",
    "#Aplicar log1p\n",
    "\n",
    "def apply_log1p(data):\n",
    "    \n",
    "    #Ejecuta el log1p, crea una nueva columna y elimina la original\n",
    "    \n",
    "    for col in saved_dict['log1p_col']:\n",
    "        new_col = col + '_log1p'\n",
    "        data[new_col] = data[col].apply(np.log1p)\n",
    "        data.drop(col, axis=1, inplace=True)\n",
    "    return data\n",
    "\n",
    "#Estandarizar los valores\n",
    "\n",
    "def standardize(data):\n",
    "    \n",
    "    #Estandariza las columnas numéricas\n",
    "    \n",
    "    data[saved_dict['num_col']] = scaler.transform(data[saved_dict['num_col']])\n",
    "    return data\n",
    "\n",
    "\n",
    "#Encoders one-hot para las columnas categóricas\n",
    "\n",
    "def ohencoding(data):\n",
    "    '''\n",
    "    Onehot encoding the categoricla columns.\n",
    "    Add the ohe columns with the data and removes categorical columns.\n",
    "    Using Onehotencoder objects trained on train data.\n",
    "    '''\n",
    "    X = ohe_service.transform(data['service'].values.reshape(-1, 1))\n",
    "    Xm = ohe_proto.transform(data['proto'].values.reshape(-1, 1))\n",
    "    Xmm = ohe_state.transform(data['state'].values.reshape(-1, 1))\n",
    "    \n",
    "    #Incluir las columnas con el encoder y eliminar las originales\n",
    "    \n",
    "    data = pd.concat([data,\n",
    "                      pd.DataFrame(Xm.toarray(), columns=['proto_'+i for i in ohe_proto.categories_[0]]),\n",
    "                      pd.DataFrame(X.toarray(), columns=['service_'+i for i in ohe_service.categories_[0]]),\n",
    "                      pd.DataFrame(Xmm.toarray(), columns=['state_'+i for i in ohe_state.categories_[0]])],\n",
    "                      axis=1)\n",
    "    \n",
    "    data.drop(['proto', 'service', 'state'], axis=1, inplace=True)\n",
    "    return data"
   ]
  },
  {
   "cell_type": "code",
   "execution_count": 10,
   "id": "7789622b",
   "metadata": {},
   "outputs": [],
   "source": [
    "def get_final_data(data, saved_dict=saved_dict, mode_dict=mode_dict):\n",
    "    \n",
    "    # Convierte unos datos de entrada a los valores adecuados\n",
    "    \n",
    "    data.reset_index(drop=True, inplace=True)\n",
    "    data.columns = saved_dict['columns']\n",
    "    \n",
    "    \n",
    "    dropable_col = saved_dict['to_drop'] + saved_dict['corr_col']\n",
    "    data.drop(columns=dropable_col, inplace=True)\n",
    "    \n",
    "    data = clean_data(data)\n",
    "    data = apply_log1p(data)\n",
    "    data = standardize(data)\n",
    "    data = ohencoding(data)\n",
    "    \n",
    "    return data"
   ]
  },
  {
   "cell_type": "code",
   "execution_count": 11,
   "id": "651e9932",
   "metadata": {},
   "outputs": [],
   "source": [
    "# Convierte los datos test a los valores adecuados\n",
    "\n",
    "x_test = get_final_data(x_test)\n",
    "le = LabelEncoder()\n",
    "y_test = le.fit_transform(y_test)"
   ]
  },
  {
   "cell_type": "code",
   "execution_count": 12,
   "id": "9dbe9700",
   "metadata": {},
   "outputs": [],
   "source": [
    "# Crear la matriz dispersa de test\n",
    "x_test_csr = csr_matrix(x_test.values)\n",
    "\n",
    "col = x_test.columns\n",
    "\n",
    "x_test = pd.DataFrame.sparse.from_spmatrix(x_test_csr, columns=col)"
   ]
  },
  {
   "cell_type": "code",
   "execution_count": 13,
   "id": "8b54bf73",
   "metadata": {},
   "outputs": [
    {
     "data": {
      "text/plain": [
       "((1778032, 196), (1778032,))"
      ]
     },
     "execution_count": 13,
     "metadata": {},
     "output_type": "execute_result"
    }
   ],
   "source": [
    "x_train.shape, y_train.shape"
   ]
  },
  {
   "cell_type": "code",
   "execution_count": 14,
   "id": "fbc09173",
   "metadata": {},
   "outputs": [
    {
     "data": {
      "text/plain": [
       "((762015, 196), (762015,))"
      ]
     },
     "execution_count": 14,
     "metadata": {},
     "output_type": "execute_result"
    }
   ],
   "source": [
    "x_test.shape, y_test.shape"
   ]
  },
  {
   "cell_type": "code",
   "execution_count": 15,
   "id": "4584dbc9",
   "metadata": {},
   "outputs": [
    {
     "data": {
      "text/plain": [
       "True"
      ]
     },
     "execution_count": 15,
     "metadata": {},
     "output_type": "execute_result"
    }
   ],
   "source": [
    "all(x_train.columns == x_test.columns)"
   ]
  },
  {
   "cell_type": "code",
   "execution_count": 22,
   "id": "d66b8608",
   "metadata": {},
   "outputs": [],
   "source": [
    "def false_alarm_rate(y_true, y_pred):\n",
    "    \n",
    "    cm = confusion_matrix(y_true, y_pred)\n",
    "    fp = cm.sum(axis=0) - np.diag(cm)  \n",
    "    fn = cm.sum(axis=1) - np.diag(cm)\n",
    "    tn = cm.sum() - (fp + fn + np.diag(cm))\n",
    "    \n",
    "    # False Positive Rate (FPR) = FP / (FP + TN)\n",
    "    fpr = fp / (fp + tn)\n",
    "    \n",
    "    # Weighted Average False Positive Rate\n",
    "    weighted_fpr = np.sum(fpr * (np.sum(cm, axis=1) / np.sum(cm)))\n",
    "    \n",
    "    return weighted_fpr"
   ]
  },
  {
   "cell_type": "code",
   "execution_count": 23,
   "id": "3b89e526",
   "metadata": {},
   "outputs": [],
   "source": [
    "#Función para ajustar los hiperparámetros\n",
    "    \n",
    "def hyperparam_tuning(clf, parameters, x, y, method='gridsearch', cv=None):\n",
    "    # Inicialización\n",
    "    scoring = {'accuracy': make_scorer(accuracy_score),\n",
    "               'f1_weighted': make_scorer(f1_score, average='weighted')}  # Agrega otras métricas según sea necesario\n",
    "    \n",
    "    # Copia modificable de los datos de entrada\n",
    "    x_copy = x.copy()\n",
    "    y_copy = y.copy()\n",
    "\n",
    "    # Ajuste de los parámetros\n",
    "    if method == 'gridsearch':\n",
    "        tuning_clf = GridSearchCV(clf, parameters, scoring=scoring, refit='accuracy',\n",
    "                                  cv=cv, verbose=3, return_train_score=True)\n",
    "        result = tuning_clf.fit(x_copy, y_copy)\n",
    "    elif method == 'randomsearch':\n",
    "        tuning_clf = RandomizedSearchCV(clf, parameters, scoring=scoring, refit='accuracy',\n",
    "                                        cv=cv, verbose=3, return_train_score=True,\n",
    "                                        random_state=check_random_state(42))\n",
    "        result = tuning_clf.fit(x_copy, y_copy)\n",
    "\n",
    "    return result"
   ]
  },
  {
   "cell_type": "code",
   "execution_count": 24,
   "id": "2269425e",
   "metadata": {},
   "outputs": [],
   "source": [
    "#Función para mostrar los resultados del ajuste de hiperparámetros\n",
    "\n",
    "def result_visualization(tuned_clf, parameters, param1=None, param2=None):\n",
    "    \n",
    "    train_score = tuned_clf.cv_results_['mean_train_auc']\n",
    "    test_score = tuned_clf.cv_results_['mean_test_auc']\n",
    "\n",
    "    print(\"Mejor puntuación: {}\".format(tuned_clf.best_score_))\n",
    "    print(\"Mejores parámetros: {}\".format(tuned_clf.best_params_))\n",
    "\n",
    "    # Visualizar putnuación con dos parámetros\n",
    "    \n",
    "    if param2 is not None:\n",
    "        \n",
    "        # Mapa de calor\n",
    "        \n",
    "        train_cmap=sns.light_palette(\"green\")\n",
    "        test_cmap=sns.light_palette(\"blue\")\n",
    "        \n",
    "        fig = plt.figure(figsize=(20,5))\n",
    "        train_ax = fig.add_subplot(1,2,1)\n",
    "        test_ax = fig.add_subplot(1,2,2)\n",
    "        \n",
    "        # Mapa de calor de train\n",
    "        \n",
    "        sns.heatmap(train_score.reshape(len(parameters[param1]), len(parameters[param2])),\n",
    "                    cmap=train_cmap, annot=True, fmt='.4f', ax=train_ax,\n",
    "                    xticklabels=parameters[param2], yticklabels=parameters[param1])\n",
    "        \n",
    "        # Mapa de calor de test\n",
    "        \n",
    "        sns.heatmap(test_score.reshape(len(parameters[param1]), len(parameters[param2])),\n",
    "                    cmap=test_cmap, annot=True, fmt='.6f', ax=test_ax,\n",
    "                    xticklabels=parameters[param2], yticklabels=parameters[param1])\n",
    "        \n",
    "        # axis labels and plot title\n",
    "        train_ax.set_title(\"Mapa de calor hiperparámetros train \")\n",
    "        train_ax.set_xlabel(param2)\n",
    "        train_ax.set_ylabel(param1)\n",
    "\n",
    "        test_ax.set_title(\"Mapa de calor hiperparámetros test\")\n",
    "        test_ax.set_xlabel(param2)\n",
    "        test_ax.set_ylabel(param1)\n",
    "        plt.show()\n",
    "    \n",
    "    # Visualizar la puntuación con un solo parámetro\n",
    "    \n",
    "    else:\n",
    "        plt.figure(figsize=(10,5))\n",
    "        plt.plot(np.log10(parameters[param1]), train_score, label=\"train\")\n",
    "        plt.plot(np.log10(parameters[param1]), test_score, label=\"test\")\n",
    "\n",
    "        # Datos de train\n",
    "        \n",
    "        for i, txt in enumerate(train_score):\n",
    "            plt.annotate((parameters[param1][i], np.round(txt, 3)), (np.log10(parameters[param1])[i], train_score[i]))\n",
    "        \n",
    "        # Datos de test\n",
    "        \n",
    "        for i, txt in enumerate(test_score):\n",
    "            plt.annotate((parameters[param1][i], np.round(txt, 3)), (np.log10(parameters[param1])[i], test_score[i]))\n",
    "        \n",
    "        plt.xlabel(param1)\n",
    "        plt.ylabel('Rendimiento')\n",
    "        plt.grid()\n",
    "        plt.legend()\n",
    "        plt.show()"
   ]
  },
  {
   "cell_type": "code",
   "execution_count": 25,
   "id": "ab9fc72b",
   "metadata": {},
   "outputs": [],
   "source": [
    "#Función para evaluar el rendimiento\n",
    "\n",
    "def evaluate_result(clf, x_train, y_train, x_test, y_test, model_name):\n",
    "\n",
    "    cmap=sns.light_palette(\"blue\")\n",
    "    \n",
    "    # Entrenamiento del mejor modelo\n",
    "    \n",
    "    clf.fit(x_train, y_train)\n",
    "    y_train_pred = clf.predict(x_train)\n",
    "    y_test_pred = clf.predict(x_test)\n",
    "    \n",
    "    #Calculo de métricas de evaluación\n",
    "    \n",
    "    train_classification_report = classification_report(y_train, y_train_pred, output_dict=True)\n",
    "    test_classification_report = classification_report(y_test, y_test_pred, output_dict=True)\n",
    "    \n",
    "    train_auc = train_classification_report['weighted avg']['precision']\n",
    "    train_f1 = train_classification_report['weighted avg']['f1-score']\n",
    "    train_far = false_alarm_rate(y_train,y_train_pred)\n",
    "        \n",
    "    test_auc = test_classification_report['weighted avg']['precision']\n",
    "    test_f1 = test_classification_report['weighted avg']['f1-score']\n",
    "    test_far = false_alarm_rate(y_test,y_test_pred)\n",
    "    \n",
    "    # Presentar los resultados en una tabla\n",
    "    \n",
    "    x = PrettyTable()\n",
    "    x.field_names = ['Dataset', 'Model', 'AUC', 'F1-score', 'False Alarm Rate']\n",
    "    x.add_row(['Train', model_name, train_auc, train_f1, train_far])\n",
    "    x.add_row(['Test', model_name, test_auc, test_f1, test_far])\n",
    "    print(x)\n",
    "    \n",
    "    return clf, test_auc, test_f1, test_far"
   ]
  },
  {
   "cell_type": "markdown",
   "id": "128a0d8d",
   "metadata": {},
   "source": [
    "##  Logistic Regression"
   ]
  },
  {
   "cell_type": "code",
   "execution_count": 26,
   "id": "893bc12d",
   "metadata": {},
   "outputs": [],
   "source": [
    "# Analizando los resultados el mejor clasificador es alpha 0.0001 y l2\n",
    "\n",
    "lr_bst_clf = SGDClassifier(penalty='l2', alpha=0.0001)"
   ]
  },
  {
   "cell_type": "code",
   "execution_count": 27,
   "id": "f8433c18",
   "metadata": {
    "scrolled": true
   },
   "outputs": [
    {
     "name": "stdout",
     "output_type": "stream",
     "text": [
      "+---------+-------+--------------------+--------------------+----------------------+\n",
      "| Dataset | Model |        AUC         |      F1-score      |   False Alarm Rate   |\n",
      "+---------+-------+--------------------+--------------------+----------------------+\n",
      "|  Train  |   LR  | 0.9726557183892515 | 0.9709330195630435 | 0.049973906707367045 |\n",
      "|   Test  |   LR  | 0.9729254876413245 | 0.9713288586324813 | 0.04982312011659345  |\n",
      "+---------+-------+--------------------+--------------------+----------------------+\n"
     ]
    }
   ],
   "source": [
    "# Obtener el mejor modelo de LR con train y test\n",
    "\n",
    "x_train_copy = x_train.copy()\n",
    "y_train_copy = y_train.copy()\n",
    "\n",
    "lr_clf, lr_auc, lr_f1, lr_far = evaluate_result(lr_bst_clf, x_train_copy, y_train_copy, x_test, y_test, 'LR')"
   ]
  },
  {
   "cell_type": "code",
   "execution_count": 28,
   "id": "ffb5369e",
   "metadata": {},
   "outputs": [],
   "source": [
    "result_dict = {\"name\":[], \"auc\":[], \"f1\":[], \"far\":[]}"
   ]
  },
  {
   "cell_type": "code",
   "execution_count": 29,
   "id": "87ff33ee",
   "metadata": {},
   "outputs": [],
   "source": [
    "# Almacenar los resultados del LR\n",
    "\n",
    "result_dict['name'].append(\"LR\")\n",
    "result_dict['auc'].append(lr_auc)\n",
    "result_dict['f1'].append(lr_f1)\n",
    "result_dict['far'].append(lr_far)"
   ]
  },
  {
   "cell_type": "code",
   "execution_count": 30,
   "id": "051bbda2",
   "metadata": {},
   "outputs": [],
   "source": [
    "pickle.dump(lr_clf, open(file_path+'/lr_clf.pkl', 'wb'))"
   ]
  },
  {
   "cell_type": "code",
   "execution_count": 31,
   "id": "a7e7ddd1",
   "metadata": {},
   "outputs": [
    {
     "data": {
      "text/plain": [
       "{'name': ['LR'],\n",
       " 'auc': [0.9729254876413245],\n",
       " 'f1': [0.9713288586324813],\n",
       " 'far': [0.04982312011659345]}"
      ]
     },
     "execution_count": 31,
     "metadata": {},
     "output_type": "execute_result"
    }
   ],
   "source": [
    "result_dict"
   ]
  },
  {
   "cell_type": "markdown",
   "id": "9760f3c0",
   "metadata": {},
   "source": [
    "##  Linear SVM"
   ]
  },
  {
   "cell_type": "code",
   "execution_count": 32,
   "id": "962bcee1",
   "metadata": {},
   "outputs": [],
   "source": [
    "# El mejor clasificador es con penalty l2 y alpha 1e-05\n",
    "\n",
    "best_svm_clf = SGDClassifier(loss='hinge', penalty='l2', alpha=1e-5)"
   ]
  },
  {
   "cell_type": "code",
   "execution_count": 33,
   "id": "ce9712bd",
   "metadata": {},
   "outputs": [
    {
     "name": "stdout",
     "output_type": "stream",
     "text": [
      "+---------+-------+--------------------+--------------------+---------------------+\n",
      "| Dataset | Model |        AUC         |      F1-score      |   False Alarm Rate  |\n",
      "+---------+-------+--------------------+--------------------+---------------------+\n",
      "|  Train  |  SVM  | 0.9703914779445921 | 0.9674100155909057 | 0.05680718992619756 |\n",
      "|   Test  |  SVM  | 0.970097598312609  | 0.967379746186299  | 0.05849404836463991 |\n",
      "+---------+-------+--------------------+--------------------+---------------------+\n"
     ]
    }
   ],
   "source": [
    "# Obtener el mejor modelo de lineal SVM con train y test\n",
    "\n",
    "y_train_copy = y_train.copy()\n",
    "svm_clf, svm_auc, svm_f1, svm_far = evaluate_result(best_svm_clf, x_train_csr, y_train_copy, x_test_csr, y_test, \"SVM\")"
   ]
  },
  {
   "cell_type": "code",
   "execution_count": 34,
   "id": "52a41827",
   "metadata": {},
   "outputs": [],
   "source": [
    "# Almacenar los resultados\n",
    "\n",
    "result_dict['name'].append(\"SVM\")\n",
    "result_dict['auc'].append(svm_auc)\n",
    "result_dict['f1'].append(svm_f1)\n",
    "result_dict['far'].append(svm_far)"
   ]
  },
  {
   "cell_type": "code",
   "execution_count": 35,
   "id": "589d903c",
   "metadata": {},
   "outputs": [],
   "source": [
    "pickle.dump(svm_clf, open(file_path+'/svm_clf.pkl', 'wb'))"
   ]
  },
  {
   "cell_type": "code",
   "execution_count": 36,
   "id": "6bda568c",
   "metadata": {
    "scrolled": true
   },
   "outputs": [],
   "source": [
    "pickle.dump(result_dict, open('result_dict.pkl', 'wb'))"
   ]
  },
  {
   "cell_type": "markdown",
   "id": "d566f975",
   "metadata": {},
   "source": [
    "## Decision tree"
   ]
  },
  {
   "cell_type": "code",
   "execution_count": 37,
   "id": "f5bb0de1",
   "metadata": {},
   "outputs": [],
   "source": [
    "# El mejor clasificador es con max_depth 10, min_samples_split 6 y min_samples_leaf 11\n",
    "\n",
    "dt_param = {'max_depth': 10, 'min_samples_split': 6, 'min_samples_leaf':11}\n",
    "\n",
    "dt_best_clf = DecisionTreeClassifier(**dt_param)"
   ]
  },
  {
   "cell_type": "code",
   "execution_count": 38,
   "id": "30c1ae98",
   "metadata": {},
   "outputs": [
    {
     "name": "stdout",
     "output_type": "stream",
     "text": [
      "+---------+-------+--------------------+--------------------+---------------------+\n",
      "| Dataset | Model |        AUC         |      F1-score      |   False Alarm Rate  |\n",
      "+---------+-------+--------------------+--------------------+---------------------+\n",
      "|  Train  |   DT  | 0.9781531245598295 | 0.9763611176657858 |  0.0519545581500037 |\n",
      "|   Test  |   DT  | 0.9780751415338191 | 0.9763337724343388 | 0.05229669117611157 |\n",
      "+---------+-------+--------------------+--------------------+---------------------+\n"
     ]
    }
   ],
   "source": [
    "# Obtener el mejor modelo de DT con train y test\n",
    "\n",
    "y_train_copy = y_train.copy()\n",
    "dt_clf, dt_auc, dt_f1, dt_far = evaluate_result(dt_best_clf, x_train_csr, y_train_copy, x_test_csr, y_test, 'DT')"
   ]
  },
  {
   "cell_type": "code",
   "execution_count": 39,
   "id": "f350a884",
   "metadata": {},
   "outputs": [],
   "source": [
    "pickle.dump(dt_clf, open(file_path+'/dt_clf.pkl', 'wb'))"
   ]
  },
  {
   "cell_type": "code",
   "execution_count": 40,
   "id": "2a0285e3",
   "metadata": {},
   "outputs": [],
   "source": [
    "result_dict = pickle.load(open('./result_dict.pkl', 'rb'))"
   ]
  },
  {
   "cell_type": "code",
   "execution_count": 41,
   "id": "8791e746",
   "metadata": {},
   "outputs": [],
   "source": [
    "# Almacenar los resultados del DT\n",
    "\n",
    "result_dict['name'].append(\"DT\")\n",
    "result_dict['auc'].append(dt_auc)\n",
    "result_dict['f1'].append(dt_f1)\n",
    "result_dict['far'].append(dt_far)"
   ]
  },
  {
   "cell_type": "code",
   "execution_count": 42,
   "id": "70a938c5",
   "metadata": {},
   "outputs": [],
   "source": [
    "pickle.dump(result_dict, open(file_path+'/result_dict.pkl', 'wb'))"
   ]
  },
  {
   "cell_type": "code",
   "execution_count": 43,
   "id": "0c7417a5",
   "metadata": {},
   "outputs": [
    {
     "data": {
      "text/plain": [
       "{'name': ['LR', 'SVM', 'DT'],\n",
       " 'auc': [0.9729254876413245, 0.970097598312609, 0.9780751415338191],\n",
       " 'f1': [0.9713288586324813, 0.967379746186299, 0.9763337724343388],\n",
       " 'far': [0.04982312011659345, 0.05849404836463991, 0.05229669117611157]}"
      ]
     },
     "execution_count": 43,
     "metadata": {},
     "output_type": "execute_result"
    }
   ],
   "source": [
    "result_dict"
   ]
  },
  {
   "cell_type": "markdown",
   "id": "1a35c390",
   "metadata": {},
   "source": [
    "## Cross Validation function"
   ]
  },
  {
   "cell_type": "code",
   "execution_count": 44,
   "id": "5a6fa1de",
   "metadata": {},
   "outputs": [],
   "source": [
    "#Dvidir los datos para train y validación cruzada \n",
    "\n",
    "x_train_new_csr, x_cv_csr, y_train, y_cv = train_test_split(x_train_csr, y_train, test_size=0.2, random_state=42)"
   ]
  },
  {
   "cell_type": "code",
   "execution_count": 45,
   "id": "6fb58b84",
   "metadata": {},
   "outputs": [
    {
     "data": {
      "text/plain": [
       "((1422425, 196),\n",
       " (1422425,),\n",
       " (355607, 196),\n",
       " (355607,),\n",
       " (762015, 196),\n",
       " (762015,))"
      ]
     },
     "execution_count": 45,
     "metadata": {},
     "output_type": "execute_result"
    }
   ],
   "source": [
    "x_train_new_csr.shape, y_train.shape, x_cv_csr.shape, y_cv.shape, x_test_csr.shape, y_test.shape"
   ]
  },
  {
   "cell_type": "code",
   "execution_count": 46,
   "id": "19c5a532",
   "metadata": {},
   "outputs": [],
   "source": [
    "#Función para realizar la validación cruzada con varios valores de un hiperparámetro a un clasificador\n",
    "\n",
    "def cross_validation(clf_name, param, param_tune,\n",
    "                     x_train=x_train_new_csr, y_train=y_train, x_cv=x_cv_csr, y_cv=y_cv):\n",
    "    #Inicialización\n",
    "    \n",
    "    train_metrics_list = []\n",
    "    cv_metrics_list = []\n",
    "    hyper_param = param_tune\n",
    "    values = param.pop(hyper_param)\n",
    "    classifier = clf_name\n",
    "\n",
    "    # Iteraciones con los diferentes valores del hiperparámetro\n",
    "    \n",
    "    for i in tqdm(values):\n",
    "        \n",
    "        #Entrenar el clasficador\n",
    "    \n",
    "        clf = classifier(**{hyper_param:i}, **param, n_jobs=-1)\n",
    "        clf.fit(x_train, y_train)\n",
    "\n",
    "        # Realizar predicciones de probabilidad\n",
    "        \n",
    "        y_train_pred = clf.predict_proba(x_train)[:,1]\n",
    "        y_cv_pred = clf.predict_proba(x_cv)[:,1]\n",
    "\n",
    "        # Obtener los resultados\n",
    "         \n",
    "        train_precision = precision_score(y_train, y_train_pred, average='weighted')\n",
    "        \n",
    "        cv_precision = precision_score(y_cv, y_cv_pred, average='weighted')\n",
    "        \n",
    "        train_metrics_list.append((train_precision))\n",
    "        cv_metrics_list.append((cv_precision))\n",
    "\n",
    "        print(\"Para unos valores {}: {}, train auc: {} and test auc {}\".format(hyper_param, i, train_precision,cv_precision))\n",
    "    \n",
    "    plt.figure(figsize=(10,5))\n",
    "    plt.plot(values, train_metrics_list, label=\"train\")\n",
    "    plt.plot(values, cv_metrics_list, label=\"cv\")\n",
    "\n",
    "    for i, txt in enumerate(train_metrics_list):\n",
    "        plt.annotate((values[i], np.round(txt, 3)), (values[i], train_metrics_list[i]))\n",
    "    for i, txt in enumerate(cv_metrics_list):\n",
    "        plt.annotate((values[i], np.round(txt, 3)), (values[i], cv_metrics_list[i]))\n",
    "    \n",
    "    plt.xlabel(hyper_param)\n",
    "    plt.ylabel('Puntuación')\n",
    "    plt.grid()\n",
    "    plt.legend()\n",
    "    plt.show()\n",
    "\n",
    "    # Búsqueda del clasificador con mejores resultados\n",
    "    \n",
    "    best_param = np.argmax(cv_metrics_list)\n",
    "    clf = classifier(**{hyper_param:values[best_param]}, **param)\n",
    "\n",
    "    return clf, hyper_param, values[best_param]"
   ]
  },
  {
   "cell_type": "markdown",
   "id": "ed613323",
   "metadata": {},
   "source": [
    "## Random Forest"
   ]
  },
  {
   "cell_type": "code",
   "execution_count": 47,
   "id": "a40d6b98",
   "metadata": {},
   "outputs": [],
   "source": [
    "# El mejor clasificador a partir de los resultados obtenidos \n",
    "\n",
    "rf_bst_clf = RandomForestClassifier(criterion='gini', max_depth=24, min_samples_split=2, n_estimators=300, n_jobs=-1)"
   ]
  },
  {
   "cell_type": "code",
   "execution_count": 48,
   "id": "bfb6fb2a",
   "metadata": {},
   "outputs": [
    {
     "name": "stdout",
     "output_type": "stream",
     "text": [
      "+---------+-------+--------------------+--------------------+----------------------+\n",
      "| Dataset | Model |        AUC         |      F1-score      |   False Alarm Rate   |\n",
      "+---------+-------+--------------------+--------------------+----------------------+\n",
      "|  Train  |   RF  | 0.989839119217008  | 0.9882149536059927 | 0.011682453056968205 |\n",
      "|   Test  |   RF  | 0.9797187382462964 | 0.9791354702617631 | 0.031545928694792405 |\n",
      "+---------+-------+--------------------+--------------------+----------------------+\n"
     ]
    }
   ],
   "source": [
    "# Obtener los resultados con el clasificador\n",
    "rf_clf, rf_auc, rf_f1, rf_far = evaluate_result(rf_bst_clf, x_train_new_csr, y_train, x_test_csr, y_test, \"RF\")"
   ]
  },
  {
   "cell_type": "code",
   "execution_count": 49,
   "id": "7cb42c7e",
   "metadata": {},
   "outputs": [],
   "source": [
    "pickle.dump(rf_clf, open(file_path+'/rf_best_clf.pkl', 'wb'))"
   ]
  },
  {
   "cell_type": "code",
   "execution_count": 50,
   "id": "daada46f",
   "metadata": {},
   "outputs": [],
   "source": [
    "result_dict = pickle.load(open('result_dict.pkl', 'rb'))"
   ]
  },
  {
   "cell_type": "code",
   "execution_count": 51,
   "id": "a0fa4147",
   "metadata": {},
   "outputs": [],
   "source": [
    "# Almacenar los resultados del clasificador RF\n",
    "\n",
    "result_dict['name'].append(\"RF\")\n",
    "result_dict['auc'].append(rf_auc)\n",
    "result_dict['f1'].append(rf_f1)\n",
    "result_dict['far'].append(rf_far)"
   ]
  },
  {
   "cell_type": "code",
   "execution_count": 52,
   "id": "4b68f541",
   "metadata": {},
   "outputs": [
    {
     "data": {
      "text/html": [
       "<div>\n",
       "<style scoped>\n",
       "    .dataframe tbody tr th:only-of-type {\n",
       "        vertical-align: middle;\n",
       "    }\n",
       "\n",
       "    .dataframe tbody tr th {\n",
       "        vertical-align: top;\n",
       "    }\n",
       "\n",
       "    .dataframe thead th {\n",
       "        text-align: right;\n",
       "    }\n",
       "</style>\n",
       "<table border=\"1\" class=\"dataframe\">\n",
       "  <thead>\n",
       "    <tr style=\"text-align: right;\">\n",
       "      <th></th>\n",
       "      <th>name</th>\n",
       "      <th>auc</th>\n",
       "      <th>f1</th>\n",
       "      <th>far</th>\n",
       "    </tr>\n",
       "  </thead>\n",
       "  <tbody>\n",
       "    <tr>\n",
       "      <th>0</th>\n",
       "      <td>LR</td>\n",
       "      <td>0.972925</td>\n",
       "      <td>0.971329</td>\n",
       "      <td>0.049823</td>\n",
       "    </tr>\n",
       "    <tr>\n",
       "      <th>1</th>\n",
       "      <td>SVM</td>\n",
       "      <td>0.970098</td>\n",
       "      <td>0.967380</td>\n",
       "      <td>0.058494</td>\n",
       "    </tr>\n",
       "    <tr>\n",
       "      <th>2</th>\n",
       "      <td>RF</td>\n",
       "      <td>0.979719</td>\n",
       "      <td>0.979135</td>\n",
       "      <td>0.031546</td>\n",
       "    </tr>\n",
       "  </tbody>\n",
       "</table>\n",
       "</div>"
      ],
      "text/plain": [
       "  name       auc        f1       far\n",
       "0   LR  0.972925  0.971329  0.049823\n",
       "1  SVM  0.970098  0.967380  0.058494\n",
       "2   RF  0.979719  0.979135  0.031546"
      ]
     },
     "execution_count": 52,
     "metadata": {},
     "output_type": "execute_result"
    }
   ],
   "source": [
    "pd.DataFrame(result_dict)"
   ]
  },
  {
   "cell_type": "code",
   "execution_count": 53,
   "id": "9b76396a",
   "metadata": {},
   "outputs": [],
   "source": [
    "pickle.dump(result_dict, open('result_dict.pkl', 'wb'))"
   ]
  },
  {
   "cell_type": "markdown",
   "id": "a93385c9",
   "metadata": {},
   "source": [
    "## GBDT"
   ]
  },
  {
   "cell_type": "code",
   "execution_count": 54,
   "id": "568ce07f",
   "metadata": {},
   "outputs": [],
   "source": [
    "# El mejor clasificador a partir de los resultados obtenidos \n",
    "\n",
    "best_params = {'n_estimators':400,\n",
    "               'max_depth':12,\n",
    "               'learning_rate':0.1,\n",
    "               'colsample_bylevel':0.5,\n",
    "               'subsample':0.1,\n",
    "               'n_jobs':-1}\n",
    "\n",
    "xgb_bst_clf = xgb.XGBClassifier(**best_params)"
   ]
  },
  {
   "cell_type": "code",
   "execution_count": 55,
   "id": "86fb94dd",
   "metadata": {},
   "outputs": [
    {
     "name": "stdout",
     "output_type": "stream",
     "text": [
      "+---------+-------+--------------------+--------------------+----------------------+\n",
      "| Dataset | Model |        AUC         |      F1-score      |   False Alarm Rate   |\n",
      "+---------+-------+--------------------+--------------------+----------------------+\n",
      "|  Train  |  GBDT | 0.9886290010798995 | 0.9879234125521299 | 0.008320740907168798 |\n",
      "|   Test  |  GBDT | 0.979917856546555  | 0.9797192600591759 | 0.026247048115416022 |\n",
      "+---------+-------+--------------------+--------------------+----------------------+\n"
     ]
    }
   ],
   "source": [
    "xgb_clf, xgb_auc, xgb_f1, xgb_far = evaluate_result(xgb_bst_clf, x_train_new_csr, y_train, x_test_csr, y_test, \"GBDT\")"
   ]
  },
  {
   "cell_type": "code",
   "execution_count": 56,
   "id": "ea4f86fe",
   "metadata": {},
   "outputs": [],
   "source": [
    "pickle.dump(xgb_clf, open(file_path+'/xgb_bst_clf.pkl', 'wb'))"
   ]
  },
  {
   "cell_type": "code",
   "execution_count": 57,
   "id": "54599bbb",
   "metadata": {},
   "outputs": [],
   "source": [
    "result_dict = pickle.load(open('result_dict.pkl', 'rb'))"
   ]
  },
  {
   "cell_type": "code",
   "execution_count": 58,
   "id": "7acb0385",
   "metadata": {},
   "outputs": [],
   "source": [
    "# Almacenar los resultados del clasificador RF\n",
    "\n",
    "result_dict['name'].append(\"GBDT\")\n",
    "result_dict['auc'].append(xgb_auc)\n",
    "result_dict['f1'].append(xgb_f1)\n",
    "result_dict['far'].append(xgb_far)"
   ]
  },
  {
   "cell_type": "code",
   "execution_count": 59,
   "id": "bb36b76f",
   "metadata": {},
   "outputs": [
    {
     "data": {
      "text/html": [
       "<div>\n",
       "<style scoped>\n",
       "    .dataframe tbody tr th:only-of-type {\n",
       "        vertical-align: middle;\n",
       "    }\n",
       "\n",
       "    .dataframe tbody tr th {\n",
       "        vertical-align: top;\n",
       "    }\n",
       "\n",
       "    .dataframe thead th {\n",
       "        text-align: right;\n",
       "    }\n",
       "</style>\n",
       "<table border=\"1\" class=\"dataframe\">\n",
       "  <thead>\n",
       "    <tr style=\"text-align: right;\">\n",
       "      <th></th>\n",
       "      <th>name</th>\n",
       "      <th>auc</th>\n",
       "      <th>f1</th>\n",
       "      <th>far</th>\n",
       "    </tr>\n",
       "  </thead>\n",
       "  <tbody>\n",
       "    <tr>\n",
       "      <th>0</th>\n",
       "      <td>LR</td>\n",
       "      <td>0.972925</td>\n",
       "      <td>0.971329</td>\n",
       "      <td>0.049823</td>\n",
       "    </tr>\n",
       "    <tr>\n",
       "      <th>1</th>\n",
       "      <td>SVM</td>\n",
       "      <td>0.970098</td>\n",
       "      <td>0.967380</td>\n",
       "      <td>0.058494</td>\n",
       "    </tr>\n",
       "    <tr>\n",
       "      <th>2</th>\n",
       "      <td>RF</td>\n",
       "      <td>0.979719</td>\n",
       "      <td>0.979135</td>\n",
       "      <td>0.031546</td>\n",
       "    </tr>\n",
       "    <tr>\n",
       "      <th>3</th>\n",
       "      <td>GBDT</td>\n",
       "      <td>0.979918</td>\n",
       "      <td>0.979719</td>\n",
       "      <td>0.026247</td>\n",
       "    </tr>\n",
       "  </tbody>\n",
       "</table>\n",
       "</div>"
      ],
      "text/plain": [
       "   name       auc        f1       far\n",
       "0    LR  0.972925  0.971329  0.049823\n",
       "1   SVM  0.970098  0.967380  0.058494\n",
       "2    RF  0.979719  0.979135  0.031546\n",
       "3  GBDT  0.979918  0.979719  0.026247"
      ]
     },
     "execution_count": 59,
     "metadata": {},
     "output_type": "execute_result"
    }
   ],
   "source": [
    "pd.DataFrame(result_dict)"
   ]
  },
  {
   "cell_type": "code",
   "execution_count": 60,
   "id": "940a9f79",
   "metadata": {},
   "outputs": [],
   "source": [
    "pickle.dump(result_dict, open('result_dict.pkl', 'wb'))"
   ]
  },
  {
   "cell_type": "markdown",
   "id": "92b52a72",
   "metadata": {},
   "source": [
    "## Modelos con las mejores características "
   ]
  },
  {
   "cell_type": "code",
   "execution_count": 61,
   "id": "d9ade78b",
   "metadata": {},
   "outputs": [],
   "source": [
    "RF_clf = pickle.load(open(file_path+'/rf_best_clf.pkl', 'rb'))"
   ]
  },
  {
   "cell_type": "code",
   "execution_count": 62,
   "id": "8c135287",
   "metadata": {},
   "outputs": [
    {
     "data": {
      "text/plain": [
       "196"
      ]
     },
     "execution_count": 62,
     "metadata": {},
     "output_type": "execute_result"
    }
   ],
   "source": [
    "# Todas las características con importancia\n",
    "\n",
    "np.count_nonzero(RF_clf.feature_importances_)"
   ]
  },
  {
   "cell_type": "code",
   "execution_count": 63,
   "id": "079c9dfc",
   "metadata": {},
   "outputs": [],
   "source": [
    "# Getting the indices of the features sorted in descending order\n",
    "\n",
    "indices = np.argsort(-1 * abs(RF_clf.feature_importances_))[:55]"
   ]
  },
  {
   "cell_type": "code",
   "execution_count": 64,
   "id": "ab6deeea",
   "metadata": {},
   "outputs": [],
   "source": [
    "saved_dict = pickle.load(open(file_path+'/saved_dict.pkl', 'rb'))"
   ]
  },
  {
   "cell_type": "code",
   "execution_count": 65,
   "id": "0a89c69e",
   "metadata": {},
   "outputs": [],
   "source": [
    "saved_dict['imp_indices'] = indices"
   ]
  },
  {
   "cell_type": "code",
   "execution_count": 66,
   "id": "5a27cfd2",
   "metadata": {},
   "outputs": [],
   "source": [
    "pickle.dump(saved_dict, open(file_path+'/saved_dict.pkl', 'wb'))"
   ]
  },
  {
   "cell_type": "code",
   "execution_count": 67,
   "id": "7da83191",
   "metadata": {},
   "outputs": [
    {
     "data": {
      "text/plain": [
       "(1422425, 55)"
      ]
     },
     "execution_count": 67,
     "metadata": {},
     "output_type": "execute_result"
    }
   ],
   "source": [
    "x_train_new_csr[:,indices].shape"
   ]
  },
  {
   "cell_type": "code",
   "execution_count": 68,
   "id": "0549d3b9",
   "metadata": {},
   "outputs": [
    {
     "data": {
      "image/png": "[encoded data removed]",
      "text/plain": [
       "<Figure size 1440x576 with 1 Axes>"
      ]
     },
     "metadata": {
      "needs_background": "light"
     },
     "output_type": "display_data"
    }
   ],
   "source": [
    "plt.figure(figsize=(20,8))\n",
    "plt.bar(x_train.columns[indices], abs(RF_clf.feature_importances_[indices]))\n",
    "plt.xticks(rotation=90)\n",
    "plt.xlabel(\"Características \")\n",
    "plt.ylabel(\"Importancia\")\n",
    "plt.title(\"Importancia de las caracteristicas\")\n",
    "plt.grid()\n",
    "plt.show()"
   ]
  },
  {
   "cell_type": "markdown",
   "id": "200e44a0",
   "metadata": {},
   "source": [
    "## Random Forest con características importantes"
   ]
  },
  {
   "cell_type": "code",
   "execution_count": 71,
   "id": "11c9f7ff",
   "metadata": {},
   "outputs": [],
   "source": [
    "# Configurar clasificador RF\n",
    "\n",
    "rf_clf_imp = RandomForestClassifier(criterion='gini', max_depth=24, min_samples_split=2, n_estimators=300, n_jobs=-1)"
   ]
  },
  {
   "cell_type": "code",
   "execution_count": 72,
   "id": "c371885f",
   "metadata": {},
   "outputs": [
    {
     "name": "stdout",
     "output_type": "stream",
     "text": [
      "+---------+-------+--------------------+--------------------+----------------------+\n",
      "| Dataset | Model |        AUC         |      F1-score      |   False Alarm Rate   |\n",
      "+---------+-------+--------------------+--------------------+----------------------+\n",
      "|  Train  | RF_FI | 0.9880931386856419 | 0.9870526450133352 | 0.01567223744495252  |\n",
      "|   Test  | RF_FI | 0.9802553464507507 | 0.9799251728867574 | 0.030341987146500937 |\n",
      "+---------+-------+--------------------+--------------------+----------------------+\n"
     ]
    }
   ],
   "source": [
    "# Obtener los resultados con el clasificador pasando solo las características importantes\n",
    "\n",
    "rf_clf_imp, rf_fi_auc, rf_fi_f1, rf_fi_far = evaluate_result(rf_clf_imp, x_train_new_csr[:,indices], y_train, x_test_csr[:,indices], y_test, 'RF_FI')"
   ]
  },
  {
   "cell_type": "code",
   "execution_count": 73,
   "id": "62f1f888",
   "metadata": {},
   "outputs": [],
   "source": [
    "pickle.dump(rf_clf_imp, open(file_path+'/rf_clf_imp.pkl', 'wb'))"
   ]
  },
  {
   "cell_type": "code",
   "execution_count": 74,
   "id": "168da482",
   "metadata": {},
   "outputs": [],
   "source": [
    "result_dict = pickle.load(open('result_dict.pkl', 'rb'))"
   ]
  },
  {
   "cell_type": "code",
   "execution_count": 75,
   "id": "91051c09",
   "metadata": {},
   "outputs": [],
   "source": [
    "#Almacenar los resultados\n",
    "\n",
    "for i,j in zip(result_dict.keys(), [\"RF_FI\", rf_fi_auc, rf_fi_f1, rf_fi_far]):\n",
    "    result_dict[i].append(j)"
   ]
  },
  {
   "cell_type": "code",
   "execution_count": 76,
   "id": "ca48604e",
   "metadata": {},
   "outputs": [
    {
     "data": {
      "text/html": [
       "<div>\n",
       "<style scoped>\n",
       "    .dataframe tbody tr th:only-of-type {\n",
       "        vertical-align: middle;\n",
       "    }\n",
       "\n",
       "    .dataframe tbody tr th {\n",
       "        vertical-align: top;\n",
       "    }\n",
       "\n",
       "    .dataframe thead th {\n",
       "        text-align: right;\n",
       "    }\n",
       "</style>\n",
       "<table border=\"1\" class=\"dataframe\">\n",
       "  <thead>\n",
       "    <tr style=\"text-align: right;\">\n",
       "      <th></th>\n",
       "      <th>name</th>\n",
       "      <th>auc</th>\n",
       "      <th>f1</th>\n",
       "      <th>far</th>\n",
       "    </tr>\n",
       "  </thead>\n",
       "  <tbody>\n",
       "    <tr>\n",
       "      <th>0</th>\n",
       "      <td>LR</td>\n",
       "      <td>0.972925</td>\n",
       "      <td>0.971329</td>\n",
       "      <td>0.049823</td>\n",
       "    </tr>\n",
       "    <tr>\n",
       "      <th>1</th>\n",
       "      <td>SVM</td>\n",
       "      <td>0.970098</td>\n",
       "      <td>0.967380</td>\n",
       "      <td>0.058494</td>\n",
       "    </tr>\n",
       "    <tr>\n",
       "      <th>2</th>\n",
       "      <td>RF</td>\n",
       "      <td>0.979719</td>\n",
       "      <td>0.979135</td>\n",
       "      <td>0.031546</td>\n",
       "    </tr>\n",
       "    <tr>\n",
       "      <th>3</th>\n",
       "      <td>GBDT</td>\n",
       "      <td>0.979918</td>\n",
       "      <td>0.979719</td>\n",
       "      <td>0.026247</td>\n",
       "    </tr>\n",
       "    <tr>\n",
       "      <th>4</th>\n",
       "      <td>RF_FI</td>\n",
       "      <td>0.980255</td>\n",
       "      <td>0.979925</td>\n",
       "      <td>0.030342</td>\n",
       "    </tr>\n",
       "  </tbody>\n",
       "</table>\n",
       "</div>"
      ],
      "text/plain": [
       "    name       auc        f1       far\n",
       "0     LR  0.972925  0.971329  0.049823\n",
       "1    SVM  0.970098  0.967380  0.058494\n",
       "2     RF  0.979719  0.979135  0.031546\n",
       "3   GBDT  0.979918  0.979719  0.026247\n",
       "4  RF_FI  0.980255  0.979925  0.030342"
      ]
     },
     "execution_count": 76,
     "metadata": {},
     "output_type": "execute_result"
    }
   ],
   "source": [
    "pd.DataFrame(result_dict)"
   ]
  },
  {
   "cell_type": "markdown",
   "id": "c0ec4c57",
   "metadata": {},
   "source": [
    "## Decision tree con características importantes"
   ]
  },
  {
   "cell_type": "code",
   "execution_count": 77,
   "id": "0b2043a3",
   "metadata": {},
   "outputs": [],
   "source": [
    "# Configurar clasificador DT\n",
    "\n",
    "dt_clf_imp = DecisionTreeClassifier(max_depth=10, min_samples_split=6, min_samples_leaf=11)"
   ]
  },
  {
   "cell_type": "code",
   "execution_count": 78,
   "id": "b6981f63",
   "metadata": {},
   "outputs": [
    {
     "name": "stdout",
     "output_type": "stream",
     "text": [
      "+---------+-------+--------------------+--------------------+---------------------+\n",
      "| Dataset | Model |        AUC         |      F1-score      |   False Alarm Rate  |\n",
      "+---------+-------+--------------------+--------------------+---------------------+\n",
      "|  Train  | DT_FI | 0.9770006975338749 | 0.9762727379731393 | 0.05319963354569822 |\n",
      "|   Test  | DT_FI | 0.977133658714513  | 0.9761403700939925 | 0.05373419020535561 |\n",
      "+---------+-------+--------------------+--------------------+---------------------+\n"
     ]
    }
   ],
   "source": [
    "# Obtener los resultados con el clasificador pasando solo las características importantes\n",
    "\n",
    "dt_clf_imp, dt_fi_auc, dt_fi_f1, dt_fi_far = evaluate_result(dt_clf_imp, x_train_new_csr[:,indices], y_train, x_test_csr[:,indices], y_test, 'DT_FI')"
   ]
  },
  {
   "cell_type": "code",
   "execution_count": 79,
   "id": "c4680b19",
   "metadata": {},
   "outputs": [],
   "source": [
    "pickle.dump(dt_clf_imp, open(file_path+'/dt_clf_imp.pkl', 'wb'))"
   ]
  },
  {
   "cell_type": "code",
   "execution_count": 80,
   "id": "a84cf648",
   "metadata": {},
   "outputs": [],
   "source": [
    "#Almacenar los resultados\n",
    "\n",
    "for i,j in zip(result_dict.keys(), [\"DT_FI\", dt_fi_auc, dt_fi_f1, dt_fi_far]):\n",
    "    result_dict[i].append(j)"
   ]
  },
  {
   "cell_type": "code",
   "execution_count": 81,
   "id": "51e07cce",
   "metadata": {},
   "outputs": [
    {
     "data": {
      "text/html": [
       "<div>\n",
       "<style scoped>\n",
       "    .dataframe tbody tr th:only-of-type {\n",
       "        vertical-align: middle;\n",
       "    }\n",
       "\n",
       "    .dataframe tbody tr th {\n",
       "        vertical-align: top;\n",
       "    }\n",
       "\n",
       "    .dataframe thead th {\n",
       "        text-align: right;\n",
       "    }\n",
       "</style>\n",
       "<table border=\"1\" class=\"dataframe\">\n",
       "  <thead>\n",
       "    <tr style=\"text-align: right;\">\n",
       "      <th></th>\n",
       "      <th>name</th>\n",
       "      <th>auc</th>\n",
       "      <th>f1</th>\n",
       "      <th>far</th>\n",
       "    </tr>\n",
       "  </thead>\n",
       "  <tbody>\n",
       "    <tr>\n",
       "      <th>0</th>\n",
       "      <td>LR</td>\n",
       "      <td>0.972925</td>\n",
       "      <td>0.971329</td>\n",
       "      <td>0.049823</td>\n",
       "    </tr>\n",
       "    <tr>\n",
       "      <th>1</th>\n",
       "      <td>SVM</td>\n",
       "      <td>0.970098</td>\n",
       "      <td>0.967380</td>\n",
       "      <td>0.058494</td>\n",
       "    </tr>\n",
       "    <tr>\n",
       "      <th>2</th>\n",
       "      <td>RF</td>\n",
       "      <td>0.979719</td>\n",
       "      <td>0.979135</td>\n",
       "      <td>0.031546</td>\n",
       "    </tr>\n",
       "    <tr>\n",
       "      <th>3</th>\n",
       "      <td>GBDT</td>\n",
       "      <td>0.979918</td>\n",
       "      <td>0.979719</td>\n",
       "      <td>0.026247</td>\n",
       "    </tr>\n",
       "    <tr>\n",
       "      <th>4</th>\n",
       "      <td>RF_FI</td>\n",
       "      <td>0.980255</td>\n",
       "      <td>0.979925</td>\n",
       "      <td>0.030342</td>\n",
       "    </tr>\n",
       "    <tr>\n",
       "      <th>5</th>\n",
       "      <td>DT_FI</td>\n",
       "      <td>0.977134</td>\n",
       "      <td>0.976140</td>\n",
       "      <td>0.053734</td>\n",
       "    </tr>\n",
       "  </tbody>\n",
       "</table>\n",
       "</div>"
      ],
      "text/plain": [
       "    name       auc        f1       far\n",
       "0     LR  0.972925  0.971329  0.049823\n",
       "1    SVM  0.970098  0.967380  0.058494\n",
       "2     RF  0.979719  0.979135  0.031546\n",
       "3   GBDT  0.979918  0.979719  0.026247\n",
       "4  RF_FI  0.980255  0.979925  0.030342\n",
       "5  DT_FI  0.977134  0.976140  0.053734"
      ]
     },
     "execution_count": 81,
     "metadata": {},
     "output_type": "execute_result"
    }
   ],
   "source": [
    "pd.DataFrame(result_dict)"
   ]
  },
  {
   "cell_type": "code",
   "execution_count": 82,
   "id": "44f3ee1a",
   "metadata": {},
   "outputs": [],
   "source": [
    "pickle.dump(result_dict, open(file_path+'/final_result_dict.pkl', 'wb'))"
   ]
  },
  {
   "cell_type": "code",
   "execution_count": null,
   "id": "c9d82be2",
   "metadata": {},
   "outputs": [],
   "source": []
  }
 ],
 "metadata": {
  "kernelspec": {
   "display_name": "Python 3.9 (tensorflow)",
   "language": "python",
   "name": "tensorflow"
  },
  "language_info": {
   "codemirror_mode": {
    "name": "ipython",
    "version": 3
   },
   "file_extension": ".py",
   "mimetype": "text/x-python",
   "name": "python",
   "nbconvert_exporter": "python",
   "pygments_lexer": "ipython3",
   "version": "3.9.7"
  }
 },
 "nbformat": 4,
 "nbformat_minor": 5
}
