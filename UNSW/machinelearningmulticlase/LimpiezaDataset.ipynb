{
 "cells": [
  {
   "cell_type": "code",
   "execution_count": 1,
   "id": "14d62f68",
   "metadata": {},
   "outputs": [],
   "source": [
    "import numpy as np  \n",
    "import pandas as pd \n",
    "import pickle\n",
    "from prettytable import PrettyTable\n",
    "from sklearn.model_selection import train_test_split\n",
    "\n",
    "import warnings\n",
    "warnings.filterwarnings(\"ignore\")\n",
    "\n",
    "%matplotlib inline"
   ]
  },
  {
   "cell_type": "code",
   "execution_count": 2,
   "id": "043c4fe5",
   "metadata": {},
   "outputs": [],
   "source": [
    "saved_dict = {}"
   ]
  },
  {
   "cell_type": "code",
   "execution_count": 3,
   "id": "11b23568",
   "metadata": {},
   "outputs": [],
   "source": [
    "# Leer los datasets\n",
    "datasets = []\n",
    "for i in range(1,5): # Hay 4 CSV\n",
    "    path = './UNSW-NB15_{}.csv'  # Importar de los csv\n",
    "    datasets.append(pd.read_csv(path.format(i), header = None)) # Concatenar datos de csv\n",
    "dataset = pd.concat(datasets).reset_index(drop=True)  # Guardar todos en un solo dataset\n"
   ]
  },
  {
   "cell_type": "code",
   "execution_count": 4,
   "id": "0300b04e",
   "metadata": {},
   "outputs": [],
   "source": [
    "# Importar nombres columnas\n",
    "columnas_dataset = pd.read_csv('./NUSW-NB15_features.csv', encoding='ISO-8859-1') "
   ]
  },
  {
   "cell_type": "code",
   "execution_count": 5,
   "id": "ca2b7eac",
   "metadata": {},
   "outputs": [],
   "source": [
    "# Todos los nombres en letra pequeña y eliminando espacios\n",
    "columnas_dataset['Name'] = columnas_dataset['Name'].apply(lambda x: x.strip().replace(' ', '').lower())"
   ]
  },
  {
   "cell_type": "code",
   "execution_count": 6,
   "id": "17a69061",
   "metadata": {},
   "outputs": [],
   "source": [
    "# Renombrar las columnas del dataset\n",
    "dataset.columns = columnas_dataset['Name']"
   ]
  },
  {
   "cell_type": "code",
   "execution_count": 7,
   "id": "4d1fd029",
   "metadata": {},
   "outputs": [],
   "source": [
    "# Saving useful info, later this will be used to transform raw test data\n",
    "saved_dict['columns'] = columnas_dataset['Name'][columnas_dataset['Name']!='attack_cat'].tolist()"
   ]
  },
  {
   "cell_type": "code",
   "execution_count": 8,
   "id": "a9a5f564",
   "metadata": {},
   "outputs": [
    {
     "data": {
      "text/plain": [
       "(2540047, 49)"
      ]
     },
     "execution_count": 8,
     "metadata": {},
     "output_type": "execute_result"
    }
   ],
   "source": [
    "dataset.shape"
   ]
  },
  {
   "cell_type": "code",
   "execution_count": 9,
   "id": "a5f2f9fd",
   "metadata": {},
   "outputs": [
    {
     "data": {
      "text/html": [
       "<div>\n",
       "<style scoped>\n",
       "    .dataframe tbody tr th:only-of-type {\n",
       "        vertical-align: middle;\n",
       "    }\n",
       "\n",
       "    .dataframe tbody tr th {\n",
       "        vertical-align: top;\n",
       "    }\n",
       "\n",
       "    .dataframe thead th {\n",
       "        text-align: right;\n",
       "    }\n",
       "</style>\n",
       "<table border=\"1\" class=\"dataframe\">\n",
       "  <thead>\n",
       "    <tr style=\"text-align: right;\">\n",
       "      <th>Name</th>\n",
       "      <th>srcip</th>\n",
       "      <th>sport</th>\n",
       "      <th>dstip</th>\n",
       "      <th>dsport</th>\n",
       "      <th>proto</th>\n",
       "      <th>state</th>\n",
       "      <th>dur</th>\n",
       "      <th>sbytes</th>\n",
       "      <th>dbytes</th>\n",
       "      <th>sttl</th>\n",
       "      <th>...</th>\n",
       "      <th>ct_ftp_cmd</th>\n",
       "      <th>ct_srv_src</th>\n",
       "      <th>ct_srv_dst</th>\n",
       "      <th>ct_dst_ltm</th>\n",
       "      <th>ct_src_ltm</th>\n",
       "      <th>ct_src_dport_ltm</th>\n",
       "      <th>ct_dst_sport_ltm</th>\n",
       "      <th>ct_dst_src_ltm</th>\n",
       "      <th>attack_cat</th>\n",
       "      <th>label</th>\n",
       "    </tr>\n",
       "  </thead>\n",
       "  <tbody>\n",
       "    <tr>\n",
       "      <th>0</th>\n",
       "      <td>59.166.0.0</td>\n",
       "      <td>1390</td>\n",
       "      <td>149.171.126.6</td>\n",
       "      <td>53</td>\n",
       "      <td>udp</td>\n",
       "      <td>CON</td>\n",
       "      <td>0.001055</td>\n",
       "      <td>132</td>\n",
       "      <td>164</td>\n",
       "      <td>31</td>\n",
       "      <td>...</td>\n",
       "      <td>0</td>\n",
       "      <td>3</td>\n",
       "      <td>7</td>\n",
       "      <td>1</td>\n",
       "      <td>3</td>\n",
       "      <td>1</td>\n",
       "      <td>1</td>\n",
       "      <td>1</td>\n",
       "      <td>NaN</td>\n",
       "      <td>0</td>\n",
       "    </tr>\n",
       "    <tr>\n",
       "      <th>1</th>\n",
       "      <td>59.166.0.0</td>\n",
       "      <td>33661</td>\n",
       "      <td>149.171.126.9</td>\n",
       "      <td>1024</td>\n",
       "      <td>udp</td>\n",
       "      <td>CON</td>\n",
       "      <td>0.036133</td>\n",
       "      <td>528</td>\n",
       "      <td>304</td>\n",
       "      <td>31</td>\n",
       "      <td>...</td>\n",
       "      <td>0</td>\n",
       "      <td>2</td>\n",
       "      <td>4</td>\n",
       "      <td>2</td>\n",
       "      <td>3</td>\n",
       "      <td>1</td>\n",
       "      <td>1</td>\n",
       "      <td>2</td>\n",
       "      <td>NaN</td>\n",
       "      <td>0</td>\n",
       "    </tr>\n",
       "    <tr>\n",
       "      <th>2</th>\n",
       "      <td>59.166.0.6</td>\n",
       "      <td>1464</td>\n",
       "      <td>149.171.126.7</td>\n",
       "      <td>53</td>\n",
       "      <td>udp</td>\n",
       "      <td>CON</td>\n",
       "      <td>0.001119</td>\n",
       "      <td>146</td>\n",
       "      <td>178</td>\n",
       "      <td>31</td>\n",
       "      <td>...</td>\n",
       "      <td>0</td>\n",
       "      <td>12</td>\n",
       "      <td>8</td>\n",
       "      <td>1</td>\n",
       "      <td>2</td>\n",
       "      <td>2</td>\n",
       "      <td>1</td>\n",
       "      <td>1</td>\n",
       "      <td>NaN</td>\n",
       "      <td>0</td>\n",
       "    </tr>\n",
       "    <tr>\n",
       "      <th>3</th>\n",
       "      <td>59.166.0.5</td>\n",
       "      <td>3593</td>\n",
       "      <td>149.171.126.5</td>\n",
       "      <td>53</td>\n",
       "      <td>udp</td>\n",
       "      <td>CON</td>\n",
       "      <td>0.001209</td>\n",
       "      <td>132</td>\n",
       "      <td>164</td>\n",
       "      <td>31</td>\n",
       "      <td>...</td>\n",
       "      <td>0</td>\n",
       "      <td>6</td>\n",
       "      <td>9</td>\n",
       "      <td>1</td>\n",
       "      <td>1</td>\n",
       "      <td>1</td>\n",
       "      <td>1</td>\n",
       "      <td>1</td>\n",
       "      <td>NaN</td>\n",
       "      <td>0</td>\n",
       "    </tr>\n",
       "    <tr>\n",
       "      <th>4</th>\n",
       "      <td>59.166.0.3</td>\n",
       "      <td>49664</td>\n",
       "      <td>149.171.126.0</td>\n",
       "      <td>53</td>\n",
       "      <td>udp</td>\n",
       "      <td>CON</td>\n",
       "      <td>0.001169</td>\n",
       "      <td>146</td>\n",
       "      <td>178</td>\n",
       "      <td>31</td>\n",
       "      <td>...</td>\n",
       "      <td>0</td>\n",
       "      <td>7</td>\n",
       "      <td>9</td>\n",
       "      <td>1</td>\n",
       "      <td>1</td>\n",
       "      <td>1</td>\n",
       "      <td>1</td>\n",
       "      <td>1</td>\n",
       "      <td>NaN</td>\n",
       "      <td>0</td>\n",
       "    </tr>\n",
       "  </tbody>\n",
       "</table>\n",
       "<p>5 rows × 49 columns</p>\n",
       "</div>"
      ],
      "text/plain": [
       "Name       srcip  sport          dstip dsport proto state       dur  sbytes  \\\n",
       "0     59.166.0.0   1390  149.171.126.6     53   udp   CON  0.001055     132   \n",
       "1     59.166.0.0  33661  149.171.126.9   1024   udp   CON  0.036133     528   \n",
       "2     59.166.0.6   1464  149.171.126.7     53   udp   CON  0.001119     146   \n",
       "3     59.166.0.5   3593  149.171.126.5     53   udp   CON  0.001209     132   \n",
       "4     59.166.0.3  49664  149.171.126.0     53   udp   CON  0.001169     146   \n",
       "\n",
       "Name  dbytes  sttl  ...  ct_ftp_cmd  ct_srv_src  ct_srv_dst ct_dst_ltm  \\\n",
       "0        164    31  ...           0           3           7          1   \n",
       "1        304    31  ...           0           2           4          2   \n",
       "2        178    31  ...           0          12           8          1   \n",
       "3        164    31  ...           0           6           9          1   \n",
       "4        178    31  ...           0           7           9          1   \n",
       "\n",
       "Name  ct_src_ltm  ct_src_dport_ltm  ct_dst_sport_ltm  ct_dst_src_ltm  \\\n",
       "0              3                 1                 1               1   \n",
       "1              3                 1                 1               2   \n",
       "2              2                 2                 1               1   \n",
       "3              1                 1                 1               1   \n",
       "4              1                 1                 1               1   \n",
       "\n",
       "Name  attack_cat  label  \n",
       "0            NaN      0  \n",
       "1            NaN      0  \n",
       "2            NaN      0  \n",
       "3            NaN      0  \n",
       "4            NaN      0  \n",
       "\n",
       "[5 rows x 49 columns]"
      ]
     },
     "execution_count": 9,
     "metadata": {},
     "output_type": "execute_result"
    }
   ],
   "source": [
    "dataset.head()"
   ]
  },
  {
   "cell_type": "code",
   "execution_count": 10,
   "id": "802e8256",
   "metadata": {},
   "outputs": [],
   "source": [
    "# Dividir el dataset en train y test\n",
    "train, test = train_test_split(dataset, test_size=0.3, random_state=16)"
   ]
  },
  {
   "cell_type": "code",
   "execution_count": 11,
   "id": "b2c9fa5c",
   "metadata": {},
   "outputs": [
    {
     "name": "stdout",
     "output_type": "stream",
     "text": [
      "(1778032, 49) \n",
      " (762015, 49)\n"
     ]
    }
   ],
   "source": [
    "print(train.shape,'\\n',test.shape)"
   ]
  },
  {
   "cell_type": "code",
   "execution_count": 12,
   "id": "7baf91a5",
   "metadata": {},
   "outputs": [
    {
     "data": {
      "text/plain": [
       "Name\n",
       "srcip                     0\n",
       "sport                     0\n",
       "dstip                     0\n",
       "dsport                    0\n",
       "proto                     0\n",
       "state                     0\n",
       "dur                       0\n",
       "sbytes                    0\n",
       "dbytes                    0\n",
       "sttl                      0\n",
       "dttl                      0\n",
       "sloss                     0\n",
       "dloss                     0\n",
       "service                   0\n",
       "sload                     0\n",
       "dload                     0\n",
       "spkts                     0\n",
       "dpkts                     0\n",
       "swin                      0\n",
       "dwin                      0\n",
       "stcpb                     0\n",
       "dtcpb                     0\n",
       "smeansz                   0\n",
       "dmeansz                   0\n",
       "trans_depth               0\n",
       "res_bdy_len               0\n",
       "sjit                      0\n",
       "djit                      0\n",
       "stime                     0\n",
       "ltime                     0\n",
       "sintpkt                   0\n",
       "dintpkt                   0\n",
       "tcprtt                    0\n",
       "synack                    0\n",
       "ackdat                    0\n",
       "is_sm_ips_ports           0\n",
       "ct_state_ttl              0\n",
       "ct_flw_http_mthd     943876\n",
       "is_ftp_login        1001037\n",
       "ct_ftp_cmd                0\n",
       "ct_srv_src                0\n",
       "ct_srv_dst                0\n",
       "ct_dst_ltm                0\n",
       "ct_src_ltm                0\n",
       "ct_src_dport_ltm          0\n",
       "ct_dst_sport_ltm          0\n",
       "ct_dst_src_ltm            0\n",
       "attack_cat          1552862\n",
       "label                     0\n",
       "dtype: int64"
      ]
     },
     "execution_count": 12,
     "metadata": {},
     "output_type": "execute_result"
    }
   ],
   "source": [
    "# Revisar si hay valores nulos\n",
    "train.isnull().sum()"
   ]
  },
  {
   "cell_type": "code",
   "execution_count": 13,
   "id": "f0bf98cf",
   "metadata": {},
   "outputs": [
    {
     "data": {
      "text/plain": [
       "Generic             150906\n",
       "Exploits             31507\n",
       " Fuzzers             13345\n",
       "DoS                  11433\n",
       " Reconnaissance       8544\n",
       " Fuzzers              3569\n",
       "Analysis              1855\n",
       "Backdoor              1242\n",
       "Reconnaissance        1220\n",
       " Shellcode             904\n",
       "Backdoors              374\n",
       "Shellcode              151\n",
       "Worms                  120\n",
       "Name: attack_cat, dtype: int64"
      ]
     },
     "execution_count": 13,
     "metadata": {},
     "output_type": "execute_result"
    }
   ],
   "source": [
    "train['attack_cat'].value_counts()"
   ]
  },
  {
   "cell_type": "code",
   "execution_count": 14,
   "id": "46217a6e",
   "metadata": {},
   "outputs": [],
   "source": [
    "# Sustituir los valores nulos por tráfico \"normal\"\n",
    "train['attack_cat'] = train.attack_cat.fillna(value='normal').apply(lambda x: x.strip().lower())\n",
    "test['attack_cat'] = test.attack_cat.fillna(value='normal').apply(lambda x: x.strip().lower())"
   ]
  },
  {
   "cell_type": "code",
   "execution_count": 15,
   "id": "0ea3bcb1",
   "metadata": {},
   "outputs": [
    {
     "data": {
      "text/plain": [
       "normal            1552862\n",
       "generic            150906\n",
       "exploits            31507\n",
       "fuzzers             16914\n",
       "dos                 11433\n",
       "reconnaissance       9764\n",
       "analysis             1855\n",
       "backdoor             1242\n",
       "shellcode            1055\n",
       "backdoors             374\n",
       "worms                 120\n",
       "Name: attack_cat, dtype: int64"
      ]
     },
     "execution_count": 15,
     "metadata": {},
     "output_type": "execute_result"
    }
   ],
   "source": [
    "train['attack_cat'].value_counts()"
   ]
  },
  {
   "cell_type": "code",
   "execution_count": 16,
   "id": "54c36bb0",
   "metadata": {},
   "outputs": [
    {
     "data": {
      "text/plain": [
       "normal            665902\n",
       "generic            64575\n",
       "exploits           13018\n",
       "fuzzers             7332\n",
       "dos                 4920\n",
       "reconnaissance      4223\n",
       "analysis             822\n",
       "backdoor             553\n",
       "shellcode            456\n",
       "backdoors            160\n",
       "worms                 54\n",
       "Name: attack_cat, dtype: int64"
      ]
     },
     "execution_count": 16,
     "metadata": {},
     "output_type": "execute_result"
    }
   ],
   "source": [
    "test['attack_cat'].value_counts()"
   ]
  },
  {
   "cell_type": "code",
   "execution_count": 17,
   "id": "3c10e308",
   "metadata": {},
   "outputs": [],
   "source": [
    "# Sustituir los valores nulos por 0\n",
    "train['ct_flw_http_mthd'] = train.ct_flw_http_mthd.fillna(value=0)"
   ]
  },
  {
   "cell_type": "code",
   "execution_count": 18,
   "id": "4531af31",
   "metadata": {},
   "outputs": [
    {
     "data": {
      "text/plain": [
       "0.0    746536\n",
       "1.0     30329\n",
       "4.0       109\n",
       "2.0        21\n",
       "Name: is_ftp_login, dtype: int64"
      ]
     },
     "execution_count": 18,
     "metadata": {},
     "output_type": "execute_result"
    }
   ],
   "source": [
    "train['is_ftp_login'].value_counts()"
   ]
  },
  {
   "cell_type": "code",
   "execution_count": 19,
   "id": "9d6e23cf",
   "metadata": {},
   "outputs": [],
   "source": [
    "# Sustituir los valores nulos por 0 con tipo int\n",
    "train['is_ftp_login'] = (train.is_ftp_login.fillna(value=0)).astype(int)"
   ]
  },
  {
   "cell_type": "code",
   "execution_count": 20,
   "id": "6f14c37f",
   "metadata": {},
   "outputs": [
    {
     "data": {
      "text/plain": [
       "(0, 833111)"
      ]
     },
     "execution_count": 20,
     "metadata": {},
     "output_type": "execute_result"
    }
   ],
   "source": [
    "# Comprobar si sigue exisitiendo algun valor nulo\n",
    "train.isnull().sum().sum(), test.isnull().sum().sum() "
   ]
  },
  {
   "cell_type": "code",
   "execution_count": 21,
   "id": "1a90e50a",
   "metadata": {},
   "outputs": [
    {
     "name": "stdout",
     "output_type": "stream",
     "text": [
      "<class 'pandas.core.frame.DataFrame'>\n",
      "Int64Index: 1778032 entries, 81030 to 2079982\n",
      "Data columns (total 49 columns):\n",
      " #   Column            Dtype  \n",
      "---  ------            -----  \n",
      " 0   srcip             object \n",
      " 1   sport             object \n",
      " 2   dstip             object \n",
      " 3   dsport            object \n",
      " 4   proto             object \n",
      " 5   state             object \n",
      " 6   dur               float64\n",
      " 7   sbytes            int64  \n",
      " 8   dbytes            int64  \n",
      " 9   sttl              int64  \n",
      " 10  dttl              int64  \n",
      " 11  sloss             int64  \n",
      " 12  dloss             int64  \n",
      " 13  service           object \n",
      " 14  sload             float64\n",
      " 15  dload             float64\n",
      " 16  spkts             int64  \n",
      " 17  dpkts             int64  \n",
      " 18  swin              int64  \n",
      " 19  dwin              int64  \n",
      " 20  stcpb             int64  \n",
      " 21  dtcpb             int64  \n",
      " 22  smeansz           int64  \n",
      " 23  dmeansz           int64  \n",
      " 24  trans_depth       int64  \n",
      " 25  res_bdy_len       int64  \n",
      " 26  sjit              float64\n",
      " 27  djit              float64\n",
      " 28  stime             int64  \n",
      " 29  ltime             int64  \n",
      " 30  sintpkt           float64\n",
      " 31  dintpkt           float64\n",
      " 32  tcprtt            float64\n",
      " 33  synack            float64\n",
      " 34  ackdat            float64\n",
      " 35  is_sm_ips_ports   int64  \n",
      " 36  ct_state_ttl      int64  \n",
      " 37  ct_flw_http_mthd  float64\n",
      " 38  is_ftp_login      int64  \n",
      " 39  ct_ftp_cmd        object \n",
      " 40  ct_srv_src        int64  \n",
      " 41  ct_srv_dst        int64  \n",
      " 42  ct_dst_ltm        int64  \n",
      " 43  ct_src_ltm        int64  \n",
      " 44  ct_src_dport_ltm  int64  \n",
      " 45  ct_dst_sport_ltm  int64  \n",
      " 46  ct_dst_src_ltm    int64  \n",
      " 47  attack_cat        object \n",
      " 48  label             int64  \n",
      "dtypes: float64(11), int64(29), object(9)\n",
      "memory usage: 678.3+ MB\n"
     ]
    }
   ],
   "source": [
    "train.info()"
   ]
  },
  {
   "cell_type": "code",
   "execution_count": 22,
   "id": "e1f58b92",
   "metadata": {},
   "outputs": [
    {
     "data": {
      "text/plain": [
       "int64      29\n",
       "float64    11\n",
       "object      9\n",
       "dtype: int64"
      ]
     },
     "execution_count": 22,
     "metadata": {},
     "output_type": "execute_result"
    }
   ],
   "source": [
    "# Tipos de datos\n",
    "train.dtypes.value_counts()"
   ]
  },
  {
   "cell_type": "code",
   "execution_count": 23,
   "id": "712db0e6",
   "metadata": {},
   "outputs": [
    {
     "data": {
      "text/plain": [
       "Index(['srcip', 'sport', 'dstip', 'dsport', 'proto', 'state', 'service',\n",
       "       'ct_ftp_cmd', 'attack_cat'],\n",
       "      dtype='object', name='Name')"
      ]
     },
     "execution_count": 23,
     "metadata": {},
     "output_type": "execute_result"
    }
   ],
   "source": [
    "# Mostrar que valores no son números\n",
    "train.select_dtypes(exclude=np.number).columns"
   ]
  },
  {
   "cell_type": "code",
   "execution_count": 24,
   "id": "f5c5f289",
   "metadata": {},
   "outputs": [
    {
     "data": {
      "text/plain": [
       "array([0, ' ', 1, '1', '0', 5, 2, 3, 4, '4', 6, '2', 8], dtype=object)"
      ]
     },
     "execution_count": 24,
     "metadata": {},
     "output_type": "execute_result"
    }
   ],
   "source": [
    "# Este atributo debería ser numérico\n",
    "train['ct_ftp_cmd'].unique()"
   ]
  },
  {
   "cell_type": "code",
   "execution_count": 25,
   "id": "19b6471f",
   "metadata": {},
   "outputs": [],
   "source": [
    "# Reemplazar valores vacíos por 0 para ser numérico\n",
    "train['ct_ftp_cmd'] = train['ct_ftp_cmd'].replace(to_replace=' ', value=0).astype(int)"
   ]
  },
  {
   "cell_type": "code",
   "execution_count": 26,
   "id": "80e68ff3",
   "metadata": {},
   "outputs": [
    {
     "data": {
      "text/plain": [
       "Index(['srcip', 'sport', 'dstip', 'dsport', 'proto', 'state', 'service',\n",
       "       'attack_cat'],\n",
       "      dtype='object', name='Name')"
      ]
     },
     "execution_count": 26,
     "metadata": {},
     "output_type": "execute_result"
    }
   ],
   "source": [
    "# Se comprueba\n",
    "train.select_dtypes(exclude=np.number).columns"
   ]
  },
  {
   "cell_type": "code",
   "execution_count": 27,
   "id": "705a6adb",
   "metadata": {},
   "outputs": [
    {
     "data": {
      "text/plain": [
       "Index(['dur', 'sbytes', 'dbytes', 'sttl', 'dttl', 'sloss', 'dloss', 'sload',\n",
       "       'dload', 'spkts', 'dpkts', 'swin', 'dwin', 'stcpb', 'dtcpb', 'smeansz',\n",
       "       'dmeansz', 'trans_depth', 'res_bdy_len', 'sjit', 'djit', 'stime',\n",
       "       'ltime', 'sintpkt', 'dintpkt', 'tcprtt', 'synack', 'ackdat',\n",
       "       'is_sm_ips_ports', 'ct_state_ttl', 'ct_flw_http_mthd', 'is_ftp_login',\n",
       "       'ct_ftp_cmd', 'ct_srv_src', 'ct_srv_dst', 'ct_dst_ltm', 'ct_src_ltm',\n",
       "       'ct_src_dport_ltm', 'ct_dst_sport_ltm', 'ct_dst_src_ltm', 'label'],\n",
       "      dtype='object', name='Name')"
      ]
     },
     "execution_count": 27,
     "metadata": {},
     "output_type": "execute_result"
    }
   ],
   "source": [
    "# Mostrar valores numéricos\n",
    "train.select_dtypes(include=np.number).columns"
   ]
  },
  {
   "cell_type": "code",
   "execution_count": 28,
   "id": "7f46e6c7",
   "metadata": {},
   "outputs": [],
   "source": [
    "# Info for test data transformation\n",
    "saved_dict['binary_col'] = ['is_sm_ips_ports', 'is_ftp_login']"
   ]
  },
  {
   "cell_type": "code",
   "execution_count": 29,
   "id": "6f56ed85",
   "metadata": {},
   "outputs": [
    {
     "name": "stdout",
     "output_type": "stream",
     "text": [
      "0    1775116\n",
      "1       2916\n",
      "Name: is_sm_ips_ports, dtype: int64\n",
      "\n",
      "0    1747573\n",
      "1      30329\n",
      "4        109\n",
      "2         21\n",
      "Name: is_ftp_login, dtype: int64\n",
      "\n"
     ]
    }
   ],
   "source": [
    "# Comprobar si las columnas binarias están bien\n",
    "for col in 'is_sm_ips_ports', 'is_ftp_login':\n",
    "    print(train[col].value_counts())\n",
    "    print()"
   ]
  },
  {
   "cell_type": "code",
   "execution_count": 30,
   "id": "08b33828",
   "metadata": {},
   "outputs": [
    {
     "data": {
      "text/plain": [
       "0    1747573\n",
       "1      30459\n",
       "Name: is_ftp_login, dtype: int64"
      ]
     },
     "execution_count": 30,
     "metadata": {},
     "output_type": "execute_result"
    }
   ],
   "source": [
    "# Convertir a binario\n",
    "train['is_ftp_login'] = np.where(train['is_ftp_login']>1, 1, train['is_ftp_login'])\n",
    "train['is_ftp_login'].value_counts()"
   ]
  },
  {
   "cell_type": "code",
   "execution_count": 31,
   "id": "334b7ce1",
   "metadata": {},
   "outputs": [
    {
     "data": {
      "text/plain": [
       "-           872286\n",
       "dns         547094\n",
       "http        144555\n",
       "ftp-data     88310\n",
       "smtp         57160\n",
       "ftp          34293\n",
       "ssh          32897\n",
       "pop3          1076\n",
       "dhcp           124\n",
       "ssl            109\n",
       "snmp            81\n",
       "radius          27\n",
       "irc             20\n",
       "Name: service, dtype: int64"
      ]
     },
     "execution_count": 31,
     "metadata": {},
     "output_type": "execute_result"
    }
   ],
   "source": [
    "train['service'].value_counts()"
   ]
  },
  {
   "cell_type": "code",
   "execution_count": 32,
   "id": "0ba5400f",
   "metadata": {},
   "outputs": [
    {
     "data": {
      "text/plain": [
       "None        872286\n",
       "dns         547094\n",
       "http        144555\n",
       "ftp-data     88310\n",
       "smtp         57160\n",
       "ftp          34293\n",
       "ssh          32897\n",
       "pop3          1076\n",
       "dhcp           124\n",
       "ssl            109\n",
       "snmp            81\n",
       "radius          27\n",
       "irc             20\n",
       "Name: service, dtype: int64"
      ]
     },
     "execution_count": 32,
     "metadata": {},
     "output_type": "execute_result"
    }
   ],
   "source": [
    "# Reemplazar los valores \"-\" por \"None\"\n",
    "train['service'] = train['service'].apply(lambda x:\"None\" if x==\"-\" else x)\n",
    "train['service'].value_counts()"
   ]
  },
  {
   "cell_type": "code",
   "execution_count": 33,
   "id": "cccdd97b",
   "metadata": {},
   "outputs": [
    {
     "data": {
      "text/plain": [
       "normal            1552862\n",
       "generic            150906\n",
       "exploits            31507\n",
       "fuzzers             16914\n",
       "dos                 11433\n",
       "reconnaissance       9764\n",
       "analysis             1855\n",
       "backdoor             1242\n",
       "shellcode            1055\n",
       "backdoors             374\n",
       "worms                 120\n",
       "Name: attack_cat, dtype: int64"
      ]
     },
     "execution_count": 33,
     "metadata": {},
     "output_type": "execute_result"
    }
   ],
   "source": [
    "train['attack_cat'].value_counts()"
   ]
  },
  {
   "cell_type": "code",
   "execution_count": 34,
   "id": "1ffec409",
   "metadata": {},
   "outputs": [],
   "source": [
    "# Agrupar todos los backdoor\n",
    "train['attack_cat'] = train['attack_cat'].replace('backdoors','backdoor', regex=True).apply(lambda x: x.strip().lower())\n",
    "test['attack_cat'] = test['attack_cat'].replace('backdoors','backdoor', regex=True).apply(lambda x: x.strip().lower())"
   ]
  },
  {
   "cell_type": "code",
   "execution_count": 35,
   "id": "6cdaa9c0",
   "metadata": {},
   "outputs": [
    {
     "data": {
      "text/plain": [
       "((1778032, 49), (762015, 49))"
      ]
     },
     "execution_count": 35,
     "metadata": {},
     "output_type": "execute_result"
    }
   ],
   "source": [
    "train.shape, test.shape"
   ]
  },
  {
   "cell_type": "code",
   "execution_count": 36,
   "id": "0aca17a3",
   "metadata": {},
   "outputs": [],
   "source": [
    "train.to_csv('./train_alldata_EDA.csv', index=False)\n",
    "test.to_csv('./test_alldata_EDA.csv', index=False)\n",
    "pickle.dump(saved_dict, open('./final_ipynb', 'wb'))"
   ]
  },
  {
   "cell_type": "code",
   "execution_count": null,
   "id": "6af8ddfb",
   "metadata": {},
   "outputs": [],
   "source": []
  }
 ],
 "metadata": {
  "kernelspec": {
   "display_name": "Python 3.9 (tensorflow)",
   "language": "python",
   "name": "tensorflow"
  },
  "language_info": {
   "codemirror_mode": {
    "name": "ipython",
    "version": 3
   },
   "file_extension": ".py",
   "mimetype": "text/x-python",
   "name": "python",
   "nbconvert_exporter": "python",
   "pygments_lexer": "ipython3",
   "version": "3.9.7"
  }
 },
 "nbformat": 4,
 "nbformat_minor": 5
}
